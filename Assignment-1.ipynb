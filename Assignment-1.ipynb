{
 "cells": [
  {
   "cell_type": "markdown",
   "id": "3e0d029b-b759-443b-85b6-16cf52c65e8d",
   "metadata": {},
   "source": [
    "1. In the below elements which of them are values or an expression? eg:- values can be\n",
    "integer or string and expressions will be mathematical operators.\n",
    "\n",
    "Answer:\n",
    "\n",
    "* - Operator - expression\n",
    "\n",
    "'hello' - string - values\n",
    "\n",
    "-87.8 - Float - values\n",
    "\n",
    "- - Operator - expression\n",
    "\n",
    "/ - Operator - values\n",
    "\n",
    "+ - Operator - expression\n",
    "\n",
    "6 - integer - values\n"
   ]
  },
  {
   "cell_type": "markdown",
   "id": "e9b2f538-d1ab-4ac0-813c-f87a03152a8b",
   "metadata": {},
   "source": [
    "2. What is the difference between string and variable?\n",
    "\n",
    "Answer:\n",
    "\n",
    "Difference between string and variable:\n",
    "\n",
    "string is the value(sequence of characters) where as variable is an identifier that can store values as int,float, string, etc.\n",
    "\n",
    "Eg. name = \"Priya\"\n",
    "\n",
    " count = 5\n",
    "\n",
    "Here name and count are the variable and \"Priya\" is String. In short, variables can hold values.\n"
   ]
  },
  {
   "cell_type": "markdown",
   "id": "e577d088-72b7-4927-a0b0-1b9147f121c0",
   "metadata": {},
   "source": [
    "3. Describe three different data types.\n",
    "\n",
    "Answer:\n",
    "\n",
    "Data types:\n",
    " \n",
    "1. Numeric Datatype -  Classes (int,float,complex) - holds numeric values\n",
    "  \n",
    "2. String Datatype -  Class str - holds sequence of characters\n",
    "\n",
    "3. Sequence Datatype -  Class (list, tuple, range) - holds collection of items\n",
    "\n",
    "4. Map Datatype -  Class dict - holds data in key-value pair form\n",
    "\n",
    "5. Boolean Datatype -  Class bool - holds either True or False\n",
    "\n",
    "6. Set Datatype -  Class - hold collection of unique items(unordered)\n"
   ]
  },
  {
   "cell_type": "markdown",
   "id": "9196af02-b577-429e-af8a-d0cebf7905fd",
   "metadata": {},
   "source": [
    "4. What is an expression made up of? What do all expressions do?\n",
    "\n",
    "Answer:\n",
    "\n",
    "Expression:\n",
    "   An expression is a combination of operators and operands and it will produce a value.\n",
    "   operators - arithmatic operators like +,-, *./\n",
    "   \n",
    "   c = a * x + b\n",
    "   \n",
    "   here a,x,b are operands. c will get final value. '*' and '+' are arithmatic operators.\n"
   ]
  },
  {
   "cell_type": "markdown",
   "id": "aae32202-d387-4fc4-809b-cd0577566724",
   "metadata": {},
   "source": [
    "5. This assignment statements, like spam = 10. What is the difference between an expression and a statement?\n",
    "\n",
    "Answer:\n",
    "\n",
    "An expression can contain identifiers, operators, and operands. \n",
    "\n",
    "spam = 10 \n",
    "\n",
    "This is a statement as it doesn't contain any operators and operands. \n",
    "A statement is used to assign a value to the variable. (variable spam is assigned with value 10).\n",
    "An expression evaluates to a single value. A statement does not.\n"
   ]
  },
  {
   "cell_type": "markdown",
   "id": "212c2571-dc0e-4765-a0d0-1297582a5a77",
   "metadata": {},
   "source": [
    "6. After running the following code, what does the variable bacon contain?\n",
    "\n",
    "Answer:\n",
    "\n",
    "bacon = 22\n",
    "bacon + 1\n",
    "\n",
    "becon = 22 as becon is assigned with value 22."
   ]
  },
  {
   "cell_type": "code",
   "execution_count": 2,
   "id": "f5ec6c0f-956d-49b3-b91b-7cff228d4a79",
   "metadata": {},
   "outputs": [
    {
     "name": "stdout",
     "output_type": "stream",
     "text": [
      "22\n"
     ]
    }
   ],
   "source": [
    "bacon = 22\n",
    "bacon + 1\n",
    "print(bacon)"
   ]
  },
  {
   "cell_type": "markdown",
   "id": "807b0f1e-517d-4d9a-bf3c-e3c06c5f4abc",
   "metadata": {},
   "source": [
    "7. What should the values of the following two terms be?\n",
    "\n",
    "Answer:\n",
    "\n",
    "a. 'spam' + 'spamspam' => 'spamspamspam'\n",
    "b. 'spam' * 3 => 'spamspamspam'\n",
    "\n"
   ]
  },
  {
   "cell_type": "code",
   "execution_count": 4,
   "id": "3a5eb2b9-43ef-4209-99e3-1247dbf86f36",
   "metadata": {},
   "outputs": [
    {
     "name": "stdout",
     "output_type": "stream",
     "text": [
      "spamspamspam spamspamspam\n"
     ]
    }
   ],
   "source": [
    "a = 'spam' + 'spamspam'\n",
    "b = 'spam' * 3\n",
    "print(a, b)"
   ]
  },
  {
   "cell_type": "markdown",
   "id": "6c7978e3-6742-4f1d-859f-fa3e903c03ad",
   "metadata": {},
   "source": [
    "8. Why is eggs a valid variable name while 100 is invalid?\n",
    "\n",
    "Answer:\n",
    "\n",
    "eggs is a variable as it starts with letter, where as 100 is a numerical value(variable name cannot start with number).\n"
   ]
  },
  {
   "cell_type": "markdown",
   "id": "12f91885-bd60-4e3e-b592-f34ec3ef4085",
   "metadata": {},
   "source": [
    "9. What three functions can be used to get the integer, floating-point number, or string version of a value?\n",
    "\n",
    "Answer:\n",
    "\n",
    "The int(), float(), and str() functions will evaluate to the integer, floating-point number, and string versions of the value passed to them.\n"
   ]
  },
  {
   "cell_type": "markdown",
   "id": "2b36c666-c87e-4420-87ef-35f71ddf468b",
   "metadata": {},
   "source": [
    "10. Why does this expression cause an error? How can you fix it? 'I have eaten ' + 99 + ' burritos.'\n",
    "\n",
    "\n",
    "Answer:\n",
    "\n",
    "The expression causes an error because 99 is an integer, and only strings can be concatenated to other strings with the + operator. \n",
    "\n",
    "So it should be like this,  'I have eaten ' + str(99) + ' burritos.'."
   ]
  }
 ],
 "metadata": {
  "kernelspec": {
   "display_name": "Python 3 (ipykernel)",
   "language": "python",
   "name": "python3"
  },
  "language_info": {
   "codemirror_mode": {
    "name": "ipython",
    "version": 3
   },
   "file_extension": ".py",
   "mimetype": "text/x-python",
   "name": "python",
   "nbconvert_exporter": "python",
   "pygments_lexer": "ipython3",
   "version": "3.10.6"
  }
 },
 "nbformat": 4,
 "nbformat_minor": 5
}
