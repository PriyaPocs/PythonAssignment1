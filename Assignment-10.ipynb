{
 "cells": [
  {
   "cell_type": "markdown",
   "id": "43598550-e4f4-4b61-88c8-6be1771157ac",
   "metadata": {},
   "source": [
    "1. What is the role of try and exception block?\n",
    "\n",
    "Answer:\n",
    "\n",
    "The try block is used to test a block of code for errors.\n",
    "\n",
    "The except block is used to handle the error."
   ]
  },
  {
   "cell_type": "markdown",
   "id": "dfa3188f-f024-48cb-8f8f-bffa57b1405e",
   "metadata": {},
   "source": [
    "2. What is the syntax for a basic try-except block?\n",
    "\n",
    "Answer:"
   ]
  },
  {
   "cell_type": "code",
   "execution_count": 5,
   "id": "c6b37639-1fbe-47d9-8ffc-61b95758f509",
   "metadata": {},
   "outputs": [
    {
     "name": "stdout",
     "output_type": "stream",
     "text": [
      "An exception occurred\n",
      "program execution won't get interrupted if we handle it with except clause.\n"
     ]
    }
   ],
   "source": [
    "try:\n",
    "    print(x)\n",
    "except:\n",
    "    print(\"An exception occurred\")\n",
    "    \n",
    "print(\"program execution won't get interrupted if we handle it with except clause.\")  "
   ]
  },
  {
   "cell_type": "markdown",
   "id": "cd7854fd-c93a-4252-8297-bbe454ed3b6e",
   "metadata": {},
   "source": [
    "3. What happens if an exception occurs inside a try block and there is no matching except block?\n",
    "\n",
    "Answer:\n",
    "\n",
    "It will throw error, if an exception occurs inside a try block and there is no matching except block.\n",
    " Example :"
   ]
  },
  {
   "cell_type": "code",
   "execution_count": 9,
   "id": "de5095b0-af0e-4cdf-8dea-8f46bd195c15",
   "metadata": {},
   "outputs": [
    {
     "ename": "ZeroDivisionError",
     "evalue": "division by zero",
     "output_type": "error",
     "traceback": [
      "\u001b[0;31m---------------------------------------------------------------------------\u001b[0m",
      "\u001b[0;31mZeroDivisionError\u001b[0m                         Traceback (most recent call last)",
      "Cell \u001b[0;32mIn [9], line 2\u001b[0m\n\u001b[1;32m      1\u001b[0m \u001b[38;5;28;01mtry\u001b[39;00m:\n\u001b[0;32m----> 2\u001b[0m     \u001b[38;5;28mprint\u001b[39m(\u001b[38;5;241;43m1\u001b[39;49m\u001b[43m \u001b[49m\u001b[38;5;241;43m/\u001b[39;49m\u001b[43m \u001b[49m\u001b[38;5;241;43m0\u001b[39;49m)\n\u001b[1;32m      3\u001b[0m \u001b[38;5;28;01mexcept\u001b[39;00m \u001b[38;5;167;01mTypeError\u001b[39;00m:\n\u001b[1;32m      4\u001b[0m     \u001b[38;5;28mprint\u001b[39m(\u001b[38;5;124m'\u001b[39m\u001b[38;5;124mError\u001b[39m\u001b[38;5;124m'\u001b[39m)\n",
      "\u001b[0;31mZeroDivisionError\u001b[0m: division by zero"
     ]
    }
   ],
   "source": [
    "try:\n",
    "    print(1 / 0)\n",
    "except TypeError:\n",
    "    print('Error')"
   ]
  },
  {
   "cell_type": "markdown",
   "id": "bd526d74-b9e9-4ab9-ac4f-d7643d0de90a",
   "metadata": {},
   "source": [
    "4. What is the difference between using a bare except block and specifying a specific exception type?\n",
    "\n",
    "Answer:\n",
    "\n",
    "The difference is that a bare except can catch any and all kind of exception, that in python is anything that is or inherit from BaseException that sit at the top of the exception hierarchy, while except Exception will catch only Exception itself or anything that inherit from it (the same apply for any particular exception you put there), this small distinction allow to make some exceptions more special than other, like the aforementioned KeyboardInterrupt that inherit from BaseException instead of Exception, and that is used to signal that the user wants to terminate this program, so you should do so and this distinction is made basically so new programmers don't shoot themselves in the foot when using except Exception"
   ]
  },
  {
   "cell_type": "code",
   "execution_count": 10,
   "id": "df6a9a4f-e60b-458a-a8cd-9e6a9160b226",
   "metadata": {},
   "outputs": [
    {
     "ename": "SyntaxError",
     "evalue": "default 'except:' must be last (396705191.py, line 3)",
     "output_type": "error",
     "traceback": [
      "\u001b[0;36m  Cell \u001b[0;32mIn [10], line 3\u001b[0;36m\u001b[0m\n\u001b[0;31m    except:\u001b[0m\n\u001b[0m    ^\u001b[0m\n\u001b[0;31mSyntaxError\u001b[0m\u001b[0;31m:\u001b[0m default 'except:' must be last\n"
     ]
    }
   ],
   "source": [
    "try:\n",
    "    print(1 / 0)\n",
    "except TypeError:\n",
    "    print('TypeError')\n",
    "except ZeroDivisionError:\n",
    "     print('division by zero')\n",
    "except:\n",
    "    print('Error')        "
   ]
  },
  {
   "cell_type": "code",
   "execution_count": 1,
   "id": "be12ff6c-64fa-4686-b59a-f0e3d07b449e",
   "metadata": {},
   "outputs": [
    {
     "name": "stdout",
     "output_type": "stream",
     "text": [
      "some error happens\n"
     ]
    }
   ],
   "source": [
    "try:\n",
    "    print(1 / 0)\n",
    "except:\n",
    "    print(\"some error happens\")"
   ]
  },
  {
   "cell_type": "markdown",
   "id": "0b8166e1-4f92-4f23-a605-316ca619a546",
   "metadata": {},
   "source": [
    "It's a bad practice to have pass in except block as it would hide the actual error."
   ]
  },
  {
   "cell_type": "code",
   "execution_count": 2,
   "id": "7f1cc86a-390b-417e-976b-8cc915f17f1f",
   "metadata": {},
   "outputs": [],
   "source": [
    "try:\n",
    "    print(1 / 0)\n",
    "except:\n",
    "    pass"
   ]
  },
  {
   "cell_type": "markdown",
   "id": "1bc0e476-b7ef-42a9-95c9-353f4ed99cf7",
   "metadata": {},
   "source": [
    "5. Can you have nested try-except blocks in Python? If yes, then give an example.\n",
    "\n",
    "\n",
    "Answer:\n",
    "\n",
    "Yes.we can have nested try-except blocks in Python, as follows."
   ]
  },
  {
   "cell_type": "code",
   "execution_count": 3,
   "id": "fa794d07-7e70-4fe3-822f-58717c00024d",
   "metadata": {},
   "outputs": [
    {
     "name": "stdout",
     "output_type": "stream",
     "text": [
      "outer try block\n",
      "Inner try block\n",
      "Inner finally block\n",
      "outer finally block\n"
     ]
    }
   ],
   "source": [
    "## Case 1: If no exception raised then outer try, inner try, inner finally, outer finally blocks will get executed\n",
    "try:\n",
    "    print(\"outer try block\")\n",
    "    try:\n",
    "        print(\"Inner try block\")\n",
    "    except ZeroDivisionError:\n",
    "        print(\"Inner except block\")\n",
    "    finally:\n",
    "        print(\"Inner finally block\")\n",
    "except:\n",
    "    print(\"outer except block\")\n",
    "finally:\n",
    "    print(\"outer finally block\")"
   ]
  },
  {
   "cell_type": "code",
   "execution_count": 4,
   "id": "208115bf-3997-412d-a197-d80a470c3502",
   "metadata": {},
   "outputs": [
    {
     "name": "stdout",
     "output_type": "stream",
     "text": [
      "outer try block\n",
      "outer except block\n",
      "outer finally block\n"
     ]
    }
   ],
   "source": [
    "## Case 2: If an exception is raised in an outer try, then outer except blocks are responsible to handle that exception.\n",
    "try:\n",
    "    print(\"outer try block\")\n",
    "    print(10/0)\n",
    "    try:\n",
    "        print(\"Inner try block\")\n",
    "    except ZeroDivisionError:\n",
    "        print(\"Inner except block\")\n",
    "    finally:\n",
    "        print(\"Inner finally block\")\n",
    "except:\n",
    "    print(\"outer except block\")\n",
    "finally:\n",
    "    print(\"outer finally block\")"
   ]
  },
  {
   "cell_type": "code",
   "execution_count": 5,
   "id": "ed54ed47-cfd9-4550-aaf1-15701753707e",
   "metadata": {},
   "outputs": [
    {
     "name": "stdout",
     "output_type": "stream",
     "text": [
      "outer try block\n",
      "Inner try block\n",
      "Inner except block\n",
      "Inner finally block\n",
      "outer finally block\n"
     ]
    }
   ],
   "source": [
    "## Case 3: If an exception raised in inner try block then inner except block is responsible to handle, if it is unable to handle then outer except block is responsible to handle.\n",
    "try:\n",
    "    print(\"outer try block\")\n",
    "    try:\n",
    "        print(\"Inner try block\")\n",
    "        print(10/0)\n",
    "    except ZeroDivisionError:\n",
    "        print(\"Inner except block\")\n",
    "    finally:\n",
    "        print(\"Inner finally block\")\n",
    "except:\n",
    "    print(\"outer except block\")\n",
    "finally:\n",
    "    print(\"outer finally block\")"
   ]
  },
  {
   "cell_type": "markdown",
   "id": "957e68c2-9313-47c0-8829-7758d7bb108c",
   "metadata": {},
   "source": [
    "6. Can we use multiple exception blocks, if yes then give an example.\n",
    "\n",
    "Answer:\n",
    "\n",
    "Yes.We can use multiple exception blocks, if yes then give an example."
   ]
  },
  {
   "cell_type": "code",
   "execution_count": 11,
   "id": "89dbf5a6-fa4b-4a65-8c26-dccd624bbcfd",
   "metadata": {},
   "outputs": [
    {
     "name": "stdin",
     "output_type": "stream",
     "text": [
      "Enter the divisor 3\n",
      "Enter the name 1\n",
      "Enter the no 4\n"
     ]
    },
    {
     "name": "stdout",
     "output_type": "stream",
     "text": [
      "TypeError\n",
      "unsupported operand type(s) for /: 'int' and 'str'\n"
     ]
    }
   ],
   "source": [
    "x = input(\"Enter the divisor\")\n",
    "y = input(\"Enter the name\")\n",
    "z1 = input(\"Enter the no\")\n",
    "z = int(z1)\n",
    "try:\n",
    "    a = 5/x\n",
    "    name = y\n",
    "    name += z\n",
    "except ZeroDivisionError as de:\n",
    "    # Code to handle ZeroDivisionError\n",
    "    print(\"ZeroDivisionError\")\n",
    "    print(de)    \n",
    "except TypeError as te:\n",
    "    # Code to handle TypeError\n",
    "    print(\"TypeError\")\n",
    "    print(te)    \n",
    "except NameError as ne:\n",
    "    # Code to handle NameError\n",
    "    print(\"NameError\")\n",
    "    print(ne)\n",
    "\n"
   ]
  },
  {
   "cell_type": "markdown",
   "id": "3713e403-4a43-4c86-a95e-a08951f0b225",
   "metadata": {},
   "source": [
    "7. Write the reason due to which following errors are raised:\n",
    "a. EOFError\n",
    "b. FloatingPointError\n",
    "c. IndexError\n",
    "d. MemoryError\n",
    "e. OverflowError\n",
    "f. TabError\n",
    "g. ValueError\n",
    "\n",
    "Answer:\n",
    "\n",
    "a. EOFError- The reason that EOFError occurs is that Python attempts to print out your input in variable string when no data is given.\n",
    "\n",
    "b. FloatingPointError-It occurs when trying to calculate a number that is too large or too small to represent as a floating-point number.\n",
    "\n",
    "c. IndexError-IndexError is an exception in python that occurs when we try to access an element from a list or tuple from an index that is not present in the list.\n",
    "\n",
    "d. MemoryError- A MemoryError means that the interpreter has run out of memory to allocate to your Python program. This may be due to an issue in the setup of the Python environment or it may be a concern with the code itself loading too much data at the same time.\n",
    "\n",
    "e. OverflowError-An OverflowError exception is raised when an arithmetic operation exceeds the limits to be represented. This is part of the ArithmeticError Exception class.\n",
    "\n",
    "f. TabError- inconsistent use of tabs and spaces in indentation” occurs when we mix tabs and spaces to indent lines in a code block.\n",
    "\n",
    "g. ValueError- When an object is given the incorrect value, the Python ValueError is raised. This may occur if the value is incorrect for the intended operation or if the value is missing altogether. A ValueError is raised, for instance, if a negative integer is supplied to a square root operation."
   ]
  },
  {
   "cell_type": "markdown",
   "id": "57f8ddbc-9794-4601-88a9-5f08c07c73c1",
   "metadata": {},
   "source": [
    "8. Write code for the following given scenario and add try-exception block to it.\n",
    "a. Program to divide two numbers\n",
    "b. Program to convert a string to an integer\n",
    "c. Program to access an element in a list\n",
    "d. Program to handle a specific exception\n",
    "e. Program to handle any exception\n",
    "\n",
    "Answer:"
   ]
  },
  {
   "cell_type": "code",
   "execution_count": 3,
   "id": "1176a382-22b2-4aae-8357-1099bcf3cc2a",
   "metadata": {},
   "outputs": [
    {
     "name": "stdout",
     "output_type": "stream",
     "text": [
      "ZeroDivisionError\n"
     ]
    }
   ],
   "source": [
    "# a. Program to divide two numbers\n",
    "a = 5;b = 0;\n",
    "try:\n",
    "    print(a/b) \n",
    "except ZeroDivisionError:\n",
    "    print(\"ZeroDivisionError\")\n",
    "    "
   ]
  },
  {
   "cell_type": "code",
   "execution_count": 6,
   "id": "d45b40b5-67f6-46e8-8d01-c1b45a930ac7",
   "metadata": {},
   "outputs": [
    {
     "name": "stdin",
     "output_type": "stream",
     "text": [
      "Enter the no: asdf\n"
     ]
    },
    {
     "name": "stdout",
     "output_type": "stream",
     "text": [
      "ValueError occured, Please enter an integer\n"
     ]
    }
   ],
   "source": [
    "# b. Program to convert a string to an integer\n",
    "str_no = input(\"Enter the no:\")\n",
    "try:\n",
    "    string_int = int(str_no)\n",
    "    print(string_int)\n",
    "except ValueError:\n",
    "    # Handle the exception\n",
    "    print('ValueError occured, Please enter an integer')\n",
    "    "
   ]
  },
  {
   "cell_type": "code",
   "execution_count": 8,
   "id": "349d8309-13ac-4a6f-8674-531f09c8c5ac",
   "metadata": {},
   "outputs": [
    {
     "name": "stdout",
     "output_type": "stream",
     "text": [
      "IndexOutOfBoundError occured\n"
     ]
    }
   ],
   "source": [
    "# c. Program to access an element in a list\n",
    "list = [1,2,3,4,5]\n",
    "try:\n",
    "    print(list[10])\n",
    "except IndexError:\n",
    "    print('IndexOutOfBoundError occured')"
   ]
  },
  {
   "cell_type": "code",
   "execution_count": 9,
   "id": "9780e8c6-0bb6-463b-b961-aef3ee5a7ad3",
   "metadata": {},
   "outputs": [
    {
     "name": "stdout",
     "output_type": "stream",
     "text": [
      "Index Out of Bound.\n"
     ]
    }
   ],
   "source": [
    "# d. Program to handle a specific exception\n",
    "try:\n",
    "    even_numbers = [2,4,6,8]\n",
    "    print(even_numbers[5])\n",
    "\n",
    "except ZeroDivisionError:\n",
    "    print(\"Denominator cannot be 0.\")\n",
    "    \n",
    "except IndexError:\n",
    "    print(\"Index Out of Bound.\")\n"
   ]
  },
  {
   "cell_type": "code",
   "execution_count": 10,
   "id": "8a30c260-3e18-49cb-b276-77779eae6fc2",
   "metadata": {},
   "outputs": [
    {
     "name": "stdout",
     "output_type": "stream",
     "text": [
      "Error occured\n"
     ]
    }
   ],
   "source": [
    "# e. Program to handle any exception\n",
    "try:\n",
    "    even_numbers = [2,4,6,8]\n",
    "    print(even_numbers[5])\n",
    "\n",
    "except:\n",
    "    print(\"Error occured\")"
   ]
  }
 ],
 "metadata": {
  "kernelspec": {
   "display_name": "Python 3 (ipykernel)",
   "language": "python",
   "name": "python3"
  },
  "language_info": {
   "codemirror_mode": {
    "name": "ipython",
    "version": 3
   },
   "file_extension": ".py",
   "mimetype": "text/x-python",
   "name": "python",
   "nbconvert_exporter": "python",
   "pygments_lexer": "ipython3",
   "version": "3.10.6"
  }
 },
 "nbformat": 4,
 "nbformat_minor": 5
}
