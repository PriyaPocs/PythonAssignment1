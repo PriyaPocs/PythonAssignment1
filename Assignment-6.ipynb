{
 "cells": [
  {
   "cell_type": "markdown",
   "id": "1cba74c1-1d0e-4d4e-a231-95f1694f3ecc",
   "metadata": {},
   "source": [
    "1. What are keywords in python? Using the keyword library, print all the python keywords.\n",
    "\n",
    "Answer:\n",
    "\n",
    "Python keywords are special reserved words that have specific meanings and purposes and can’t be used for anything but those specific purposes. These keywords are always available. We don't have to import them into your code.\n",
    "\n",
    "Using the keyword library, we can print all the python keywords as follows."
   ]
  },
  {
   "cell_type": "code",
   "execution_count": 1,
   "id": "9527280b-3405-489a-b2e1-ea848752e55e",
   "metadata": {},
   "outputs": [
    {
     "name": "stdout",
     "output_type": "stream",
     "text": [
      "Python keywords are...\n",
      "['False', 'None', 'True', 'and', 'as', 'assert', 'async', 'await', 'break', 'class', 'continue', 'def', 'del', 'elif', 'else', 'except', 'finally', 'for', 'from', 'global', 'if', 'import', 'in', 'is', 'lambda', 'nonlocal', 'not', 'or', 'pass', 'raise', 'return', 'try', 'while', 'with', 'yield']\n"
     ]
    }
   ],
   "source": [
    "# Python program to print the list of all keywords\n",
    "\n",
    "# importing the module\n",
    "import keyword\n",
    "\n",
    "# printing the keywords\n",
    "print(\"Python keywords are...\")\n",
    "print(keyword.kwlist)"
   ]
  },
  {
   "cell_type": "markdown",
   "id": "11358ba1-4d56-4253-b75d-12e91f10dbfd",
   "metadata": {},
   "source": [
    "2. What are the rules to create variables in python?\n",
    "\n",
    "Rules to create variables in python\n",
    "1. A variable name must start with a letter or the underscore character\n",
    "2. A variable name cannot start with a number\n",
    "3. A variable name can only contain alpha-numeric characters and underscores (A-z, 0-9, and _ )\n",
    "4. Variable names are case-sensitive (Name, nAme and naME, NAME,.. are three different variables)\n",
    "\n"
   ]
  },
  {
   "cell_type": "code",
   "execution_count": 3,
   "id": "79fd23a3-6b64-4d7e-a2e6-05c37f61b382",
   "metadata": {},
   "outputs": [
    {
     "ename": "SyntaxError",
     "evalue": "invalid decimal literal (508708947.py, line 10)",
     "output_type": "error",
     "traceback": [
      "\u001b[0;36m  Cell \u001b[0;32mIn [3], line 10\u001b[0;36m\u001b[0m\n\u001b[0;31m    2myvar = \"John\"\u001b[0m\n\u001b[0m    ^\u001b[0m\n\u001b[0;31mSyntaxError\u001b[0m\u001b[0;31m:\u001b[0m invalid decimal literal\n"
     ]
    }
   ],
   "source": [
    "#Legal variable names:\n",
    "myvar = \"John\"\n",
    "my_var = \"John\"\n",
    "_my_var = \"John\"\n",
    "myVar = \"John\"\n",
    "MYVAR = \"John\"\n",
    "myvar2 = \"John\"\n",
    "\n",
    "#Illegal variable names:\n",
    "2myvar = \"John\"\n",
    "my-var = \"John\"\n",
    "my var = \"John\""
   ]
  },
  {
   "cell_type": "markdown",
   "id": "8b2117d4-b875-4cde-8c57-0c0c3adea084",
   "metadata": {},
   "source": [
    "3. What are the standards and conventions followed for the nomenclature of variables in python to improve code readability and maintainability?\n",
    "\n",
    "Answer:\n",
    "\n",
    "Variable names should be lowercase, with words separated by underscores as necessary to improve readability and maintainability.\n"
   ]
  },
  {
   "cell_type": "markdown",
   "id": "ba8a37c5-a38a-4d9f-a7b6-6a124b9540cc",
   "metadata": {},
   "source": [
    "4. What will happen if a keyword is used as a variable name?\n",
    "\n",
    "Answer:\n",
    "\n",
    "Keywords refer to the reserved words of Python which have a special fixed meaning for the interpreter which we call keywords. Similarly, we cannot use any keyword as an identifier. On the other hand, the variable is like a container that stores values that we can access or change."
   ]
  },
  {
   "cell_type": "code",
   "execution_count": 7,
   "id": "fc68f6a4-86be-4790-a06f-04d1a665e568",
   "metadata": {},
   "outputs": [
    {
     "ename": "SyntaxError",
     "evalue": "invalid syntax (3435679909.py, line 1)",
     "output_type": "error",
     "traceback": [
      "\u001b[0;36m  Cell \u001b[0;32mIn [7], line 1\u001b[0;36m\u001b[0m\n\u001b[0;31m    def = 5\u001b[0m\n\u001b[0m        ^\u001b[0m\n\u001b[0;31mSyntaxError\u001b[0m\u001b[0;31m:\u001b[0m invalid syntax\n"
     ]
    }
   ],
   "source": [
    "def = 5\n",
    "def"
   ]
  },
  {
   "cell_type": "markdown",
   "id": "595ea319-d956-430f-ba10-3050979511c7",
   "metadata": {},
   "source": [
    "5. For what purpose def keyword is used?\n",
    "\n",
    "Answer:\n",
    "\n",
    "The def keyword is used to create or define a function.\n"
   ]
  },
  {
   "cell_type": "code",
   "execution_count": 1,
   "id": "e1b02be7-4b54-4c76-a788-374d28f8c50e",
   "metadata": {},
   "outputs": [
    {
     "name": "stdout",
     "output_type": "stream",
     "text": [
      "main\n",
      "Hello from a function\n"
     ]
    }
   ],
   "source": [
    "def my_function():\n",
    "  print(\"Hello from a function\")\n",
    "\n",
    "print(\"main\")\n",
    "my_function()"
   ]
  },
  {
   "cell_type": "markdown",
   "id": "a75888ac-6442-43b4-bac4-692e8426f952",
   "metadata": {},
   "source": [
    "6. What is the operation of this special character ‘\\’?\n",
    "\n",
    "Answer:\n",
    "\n",
    "Multi-Line Statements: In Python, end of a statement is marked by a newline character. But we can make a statement extend over multiple lines with the line continuation character \\\n",
    "\n",
    "\n",
    "\n",
    "In Python strings, the backslash \"\\\" is a special character, also called the \"escape\" character. It is used in representing certain whitespace characters: \"\\t\" is a tab, \"\\n\" is a newline, and \"\\r\" is a carriage return.\n"
   ]
  },
  {
   "cell_type": "code",
   "execution_count": 3,
   "id": "3b9ab38e-9cf0-4ddf-af62-5fcd92f48895",
   "metadata": {},
   "outputs": [
    {
     "data": {
      "text/plain": [
       "15"
      ]
     },
     "execution_count": 3,
     "metadata": {},
     "output_type": "execute_result"
    }
   ],
   "source": [
    "# Multi-Line Statements\n",
    "# Using line continuation character\n",
    "s = 1 + 2 + 3 + \\\n",
    "    4 + 5\n",
    "s"
   ]
  },
  {
   "cell_type": "code",
   "execution_count": 6,
   "id": "a2addc7d-92f6-434e-80e3-808a0b7a72d0",
   "metadata": {},
   "outputs": [
    {
     "ename": "SyntaxError",
     "evalue": "unterminated string literal (detected at line 1) (1235654105.py, line 1)",
     "output_type": "error",
     "traceback": [
      "\u001b[0;36m  Cell \u001b[0;32mIn [6], line 1\u001b[0;36m\u001b[0m\n\u001b[0;31m    print('It's raining')\u001b[0m\n\u001b[0m                       ^\u001b[0m\n\u001b[0;31mSyntaxError\u001b[0m\u001b[0;31m:\u001b[0m unterminated string literal (detected at line 1)\n"
     ]
    }
   ],
   "source": [
    "print('It's raining')"
   ]
  },
  {
   "cell_type": "code",
   "execution_count": 7,
   "id": "534d6520-548a-48bb-ba64-066f8f8ed74b",
   "metadata": {},
   "outputs": [
    {
     "name": "stdout",
     "output_type": "stream",
     "text": [
      "It's raining\n"
     ]
    }
   ],
   "source": [
    "print('It\\'s raining')"
   ]
  },
  {
   "cell_type": "markdown",
   "id": "9cefeb37-dfbe-4fb8-803a-6227eb7fcd3c",
   "metadata": {},
   "source": [
    "7. Give an example of the following conditions:\n",
    "(i) Homogeneous list\n",
    "(ii) Heterogeneous set\n",
    "(iii) Homogeneous tuple\n",
    "\n",
    "Answer:\n",
    "(i) Homogeneous list:\n",
    "Homogeneous Data Structure – Data elements will be of same data type (ex: list).\n",
    "\n",
    "(ii) Heterogeneous set\n",
    "Heterogeneous: set can hold elements of different data types, including different data structures.\n",
    "\n",
    "(iii) Homogeneous tuple\n",
    "Heterogeneous tuple has mixed types of items.\n",
    "\n",
    "Eg as follows.."
   ]
  },
  {
   "cell_type": "code",
   "execution_count": 11,
   "id": "f5240218-d5c5-40d1-80c6-5145954f9b67",
   "metadata": {},
   "outputs": [
    {
     "name": "stdout",
     "output_type": "stream",
     "text": [
      "Homogeneous list: \n",
      "[12, 24, 99]\n",
      "['hello', 'goodbye']\n",
      "Heterogeneous set: \n",
      "{True, 52.7, 10, 'Priya', 'for'}\n",
      "Homogeneous tuple: \n",
      "('Jessa', 30, 45.75, [25, 78])\n"
     ]
    }
   ],
   "source": [
    "list1 = [12, 24, 99]\n",
    "list2 = [\"hello\", \"goodbye\"]\n",
    "print(\"Homogeneous list: \")\n",
    "print(list1)\n",
    "print(list2)\n",
    "\n",
    "print(\"Heterogeneous set: \")\n",
    "myset = {\"Priya\", \"for\", 10, 52.7, True}\n",
    "print(myset)\n",
    "\n",
    "print(\"Homogeneous tuple: \")\n",
    "sample_tuple = ('Jessa', 30, 45.75, [25, 78])\n",
    "print(sample_tuple)"
   ]
  },
  {
   "cell_type": "markdown",
   "id": "04742826-7ac7-4048-a685-bd4fcc259ca8",
   "metadata": {},
   "source": [
    "8. Explain the mutable and immutable data types with proper explanation & examples.\n",
    "\n",
    "\n",
    "Answer:\n",
    "\n",
    "we can change the contents of a mutable data type in Python, by assigning new values or by simply adding new values or remove values. On contrary to that, we cannot change the contents of an immutable data type in Python.\n",
    "\n",
    "Mutable data types:\n",
    "dictionary,list,Set\n",
    "\n",
    "Immutable data type:\n"
   ]
  },
  {
   "cell_type": "code",
   "execution_count": 13,
   "id": "39ccd8b1-cdac-47cf-b461-dc707f6d4845",
   "metadata": {},
   "outputs": [
    {
     "name": "stdout",
     "output_type": "stream",
     "text": [
      "List after appending a value =  [1, 2, 3, 4, 5, 10]\n",
      "List after extending a list =  [1, 2, 3, 4, 5, 10, 6, 11, 23]\n",
      "List after removing a value =  [1, 2, 4, 5, 10, 6, 11, 23]\n",
      "List after changing value using indexing =  [1, 2, 3, 4, 100]\n"
     ]
    }
   ],
   "source": [
    "# example to demonstrate list is a mutable data type in python\n",
    "\n",
    "# our current list\n",
    "my_list = [1,2,3,4,5]\n",
    "\n",
    "# using append operation in our list\n",
    "my_list.append(10)\n",
    "# printing our list after the operation\n",
    "print(\"List after appending a value = \",my_list)\n",
    "\n",
    "# using extend operation in our list\n",
    "my_list.extend([6,11,23])\n",
    "# printing our list after the operation\n",
    "print(\"List after extending a list = \",my_list)\n",
    "\n",
    "# after removing a value from our list\n",
    "my_list.remove(3)\n",
    "# printing our list after the operation\n",
    "print(\"List after removing a value = \",my_list)\n",
    "\n",
    "# Example to demonstrate we can \n",
    "# also change the value of the list \n",
    "# by using the assignment operator\n",
    "my_list = [1,2,3,4,5]\n",
    "my_list[4] = 100\n",
    "print(\"List after changing value using indexing = \", my_list)"
   ]
  },
  {
   "cell_type": "code",
   "execution_count": 14,
   "id": "81442f0c-78e2-436d-be2f-043ba8344c74",
   "metadata": {},
   "outputs": [
    {
     "name": "stdout",
     "output_type": "stream",
     "text": [
      "Set after adding a value :  {16, 1, 2, 5, 6, 7, 11}\n",
      "Set after updating some values :  {1, 2, 5, 6, 7, 9, 11, 78, 16, 100}\n",
      "Set after removing a value :  {1, 5, 6, 7, 9, 11, 78, 16, 100}\n"
     ]
    }
   ],
   "source": [
    "# example to demonstrate \n",
    "# set is a mutable data type in python\n",
    "\n",
    "# our current set\n",
    "my_set = {1,2,6,5,7,11}\n",
    "\n",
    "# adding an element in our set\n",
    "my_set.add(16)\n",
    "# printing our set after the operation\n",
    "print(\"Set after adding a value : \",my_set)\n",
    "\n",
    "# adding multiple elements in our set\n",
    "# multiple elements (such as a list) can be added using update\n",
    "my_set.update([9,78,100])\n",
    "# printing our set after the operation\n",
    "print(\"Set after updating some values : \",my_set)\n",
    "\n",
    "# removing element from our set\n",
    "my_set.remove(2)\n",
    "# printing our set after the operation\n",
    "print(\"Set after removing a value : \",my_set)"
   ]
  },
  {
   "cell_type": "code",
   "execution_count": 15,
   "id": "a3e80fea-f37c-4912-9dcb-995486599448",
   "metadata": {},
   "outputs": [
    {
     "name": "stdout",
     "output_type": "stream",
     "text": [
      "Dictionary after adding a new key-value pair =  {'state': 'WB', 'Capital': 'Kolkata', 'Country': 'India'}\n",
      "Dictionary after updating an existing key value pair =  {'state': 'West Bengal', 'Capital': 'Kolkata', 'Country': 'India'}\n",
      "Dictionary after popping out a key value pair =  {'state': 'West Bengal', 'Country': 'India'}\n",
      "After clearing the whole dictionary =  {}\n"
     ]
    }
   ],
   "source": [
    "# example to demonstrate dictionary is a mutable data type in python\n",
    "\n",
    "# our current dictionary\n",
    "my_dict = {\"state\":\"WB\", \"Capital\":\"Kolkata\"}\n",
    "\n",
    "# adding new key-value pair to our dictionary\n",
    "my_dict['Country'] = \"India\"\n",
    "# printing our dictionary after the operation\n",
    "print(\"Dictionary after adding a new key-value pair = \",my_dict)\n",
    "\n",
    "# updating key-value pair in our dictionary\n",
    "my_dict['state'] = \"West Bengal\"\n",
    "# printing our dictionary after the operation\n",
    "print(\"Dictionary after updating an existing key value pair = \",my_dict)\n",
    "\n",
    "# removing key-value pair in our dictionary\n",
    "my_dict.pop('Capital')\n",
    "# printing our dictionary after the operation\n",
    "print(\"Dictionary after popping out a key value pair = \",my_dict)\n",
    "\n",
    "# removing key-value pair in our dictionary\n",
    "my_dict.clear()\n",
    "print(\"After clearing the whole dictionary = \",my_dict)\n"
   ]
  },
  {
   "cell_type": "code",
   "execution_count": 16,
   "id": "0ea86b96-4ca8-4b3c-b548-4fe389be5084",
   "metadata": {},
   "outputs": [
    {
     "name": "stdout",
     "output_type": "stream",
     "text": [
      "Tuples are immutable. We can change it.\n",
      "('Jessa', 30, 45.75, [25, 78])\n"
     ]
    }
   ],
   "source": [
    "print(\"Tuples are immutable. We can change it.\")\n",
    "sample_tuple = ('Jessa', 30, 45.75, [25, 78])\n",
    "print(sample_tuple)"
   ]
  },
  {
   "cell_type": "markdown",
   "id": "69d0f7c8-10cc-4cc6-9b4b-5a3d1c86e1b2",
   "metadata": {},
   "source": [
    "9. Write a code to create the given structure using only for loop.\n",
    "    *\n",
    "   ***\n",
    "  *****\n",
    " *******\n",
    "*********"
   ]
  },
  {
   "cell_type": "code",
   "execution_count": 78,
   "id": "551c1442-b376-4d5d-aaf7-bfc3b1863038",
   "metadata": {},
   "outputs": [
    {
     "name": "stdout",
     "output_type": "stream",
     "text": [
      "    *\n",
      "   ***\n",
      "  *****\n",
      " *******\n",
      "*********\n"
     ]
    }
   ],
   "source": [
    "def pattern1(n):\n",
    "    for i in range(n):\n",
    "        b = i*2+1\n",
    "        l = int((2*n-1)/2)-i\n",
    "        print(\" \"*l,end= \"\")\n",
    "        for j in range(b):\n",
    "            print(\"*\",end= \"\")\n",
    "        print(\"\")\n",
    "n = 5\n",
    "pattern1(n)         "
   ]
  },
  {
   "cell_type": "markdown",
   "id": "bfc7d78d-0945-49f8-bb4e-9e9a09e37c7a",
   "metadata": {},
   "source": [
    "10. Write a code to create the given structure using while loop.\n",
    "|||||||||\n",
    " |||||||\n",
    "  |||||\n",
    "   |||\n",
    "    |"
   ]
  },
  {
   "cell_type": "code",
   "execution_count": 79,
   "id": "be85c019-4fa6-442e-8d8e-e1bc7184a83c",
   "metadata": {},
   "outputs": [
    {
     "name": "stdout",
     "output_type": "stream",
     "text": [
      "|||||||||\n",
      " |||||||\n",
      "  |||||\n",
      "   |||\n",
      "    |\n"
     ]
    }
   ],
   "source": [
    "def pattern2(n):\n",
    "    for i in range(n):\n",
    "        b = n*2-(2*i+1)\n",
    "        l = i\n",
    "        print(\" \"*l,end= \"\")\n",
    "        for j in range(b):\n",
    "            print(\"|\",end= \"\")\n",
    "        print(\"\") \n",
    "n = 5\n",
    "pattern2(n)    "
   ]
  },
  {
   "cell_type": "code",
   "execution_count": null,
   "id": "a1605554-9500-4586-82bb-45bff40ab840",
   "metadata": {},
   "outputs": [],
   "source": []
  }
 ],
 "metadata": {
  "kernelspec": {
   "display_name": "Python 3 (ipykernel)",
   "language": "python",
   "name": "python3"
  },
  "language_info": {
   "codemirror_mode": {
    "name": "ipython",
    "version": 3
   },
   "file_extension": ".py",
   "mimetype": "text/x-python",
   "name": "python",
   "nbconvert_exporter": "python",
   "pygments_lexer": "ipython3",
   "version": "3.10.6"
  }
 },
 "nbformat": 4,
 "nbformat_minor": 5
}
