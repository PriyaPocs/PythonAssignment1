{
 "cells": [
  {
   "cell_type": "markdown",
   "id": "ba4561f4-f95e-46fb-a687-aeac38e89d6d",
   "metadata": {},
   "source": [
    "1.What are the two values of the Boolean data type? How do you write them?\n",
    "\n",
    "Answer: True and False\n",
    "\n",
    "x = 10\n",
    "y = 20\n",
    "\n",
    "if x < y:\n",
    "   print(True)\n",
    "else:\n",
    "   print(False)"
   ]
  },
  {
   "cell_type": "code",
   "execution_count": 10,
   "id": "8a20685b-e11c-4940-89d2-c0ba2fc493d8",
   "metadata": {},
   "outputs": [
    {
     "name": "stdout",
     "output_type": "stream",
     "text": [
      "True\n"
     ]
    }
   ],
   "source": [
    "x = 10\n",
    "y = 20\n",
    "\n",
    "if x < y:\n",
    "   print(True)\n",
    "else:\n",
    "   print(False)"
   ]
  },
  {
   "cell_type": "markdown",
   "id": "47c4cf95-834c-4be1-8564-34ffa46c4bd6",
   "metadata": {},
   "source": [
    "2. What are the three different types of Boolean operators?\n",
    "\n",
    "Answer:\n",
    "    \n",
    "    and, or, not\n",
    "    \n",
    "Example:\n"
   ]
  },
  {
   "cell_type": "code",
   "execution_count": 11,
   "id": "c5afda71-635d-44b7-ad66-588b0efc47fe",
   "metadata": {},
   "outputs": [
    {
     "name": "stdout",
     "output_type": "stream",
     "text": [
      " a is smallest 10\n",
      "a is not 0\n",
      "a =  10 b =  20 c =  30\n"
     ]
    }
   ],
   "source": [
    "a = 10\n",
    "b = 20\n",
    "c = 30\n",
    "\n",
    "if a<b and a<c :\n",
    "    print(\" a is smallest\",a)\n",
    "elif b<a and b<c:\n",
    "    print(\" b is smallest\",b)\n",
    "else:\n",
    "    print(\" c is smallest\",c)   \n",
    "    \n",
    "if (a != 0 ):\n",
    "    print(\"a is not 0\")\n",
    "\n",
    "if (a > 0) or (b > 0) or (c > 0):\n",
    "    print(\"a = \",a,\"b = \",b,\"c = \",c)"
   ]
  },
  {
   "cell_type": "markdown",
   "id": "b029b855-780a-43b2-b3de-28805e9d9288",
   "metadata": {},
   "source": [
    "3. Make a list of each Boolean operator's truth tables (i.e. every possible combination of Boolean values for the operator and what it evaluate ).\n",
    "\n",
    "Answer:\n",
    "  \n",
    "### OR truth table  \n",
    "==============\n",
    "\n",
    "True    True    True\n",
    "\n",
    "False   True    True \n",
    "\n",
    "True    False   True\n",
    "\n",
    "False   False   False\n",
    "\n",
    "  \n",
    "### AND truth table\n",
    "==============\n",
    "\n",
    "True    True    True\n",
    "\n",
    "False   True    False \n",
    "\n",
    "True    False   False\n",
    "\n",
    "False   False   False  \n",
    "\n",
    "\n",
    "### NOT truth table\n",
    "==============\n",
    "\n",
    "True    False\n",
    "\n",
    "False   True \n",
    "\n",
    "\n",
    "\n"
   ]
  },
  {
   "cell_type": "markdown",
   "id": "eeb866bb-6dba-44a8-b997-e3908a57a610",
   "metadata": {},
   "source": [
    "4. What are the values of the following expressions?\n",
    "\n",
    "Answer:\n",
    "    \n",
    "1. (5 > 4) and (3 == 5) ==> False\n",
    "\n",
    "2. not (5 > 4) ==> False\n",
    "\n",
    "3. (5 > 4) or (3 == 5) ==> True\n",
    "\n",
    "4. not ((5 > 4) or (3 == 5)) ==> False\n",
    "\n",
    "5. (True and True) and (True == False) ==> False\n",
    "\n",
    "6. (not False) or (not True) ==> True\n",
    "\n"
   ]
  },
  {
   "cell_type": "markdown",
   "id": "29874dda-7541-4561-8dbc-a9f29630acc9",
   "metadata": {},
   "source": [
    "5. What are the six comparison operators?\n",
    "\n",
    "\n",
    "Answer:\n",
    "\n",
    "  \n",
    "operator     name                       example\n",
    "\n",
    "1. ==       equal                      x == y \n",
    "\n",
    "\n",
    "2. !=       not equal                  x != y \n",
    "\n",
    "\n",
    "3. >        greater than               x > y \n",
    "\n",
    "\n",
    "4. >=       greater than or equal      x >= y \n",
    "\n",
    "\n",
    "5. <        less than                  x < y \n",
    "\n",
    "\n",
    "6. <=       less than or equal         x <= y \n",
    "\n"
   ]
  },
  {
   "cell_type": "markdown",
   "id": "1c5f4839-6efb-430b-8759-e01fbd14bad5",
   "metadata": {},
   "source": [
    "6. How do you tell the difference between the equal to and assignment operators?Describe a condition and when you would use one.\n",
    "\n",
    "\n",
    "Answer:\n",
    "\n",
    "Assignment operator is represented by = . It's used for assigning a value to variable. \n",
    "Eg. x = 5\n",
    "\n",
    "Equal to operator is represented by ==. It's used for comparision. It will return True/False. It would give Boolean result.\n",
    "Eg. \n",
    "\n",
    "x = 5\n",
    "if x == 5: ==> returns True/False Here, in this eg, it will return True.\n",
    "\n"
   ]
  },
  {
   "cell_type": "markdown",
   "id": "8125e50d-b44f-4f01-bbac-01d9c1490470",
   "metadata": {},
   "source": [
    "7. Identify the three blocks in this code:\n",
    "\n",
    "spam = 0\n",
    "if spam == 10:\n",
    "print('eggs')\n",
    "if spam > 5:\n",
    "print('bacon')\n",
    "else:\n",
    "print('ham')\n",
    "print('spam')\n",
    "print('spam')\n",
    "\n",
    "Answer:\n",
    "\n",
    "spam = 0\n",
    "if spam == 10:\n",
    "    print('eggs')   \n",
    "    if spam > 5:\n",
    "        print('bacon')\n",
    "    else:\n",
    "        print('ham')\n",
    "    print('spam')\n",
    "print('spam')\n",
    "\n"
   ]
  },
  {
   "cell_type": "markdown",
   "id": "d7ea5248-234a-4533-bb84-09d72fd99758",
   "metadata": {},
   "source": [
    "8. Write code that prints Hello if 1 is stored in spam, prints Howdy if 2 is stored in spam, and prints Greetings! if anything else is stored in spam.\n",
    "\n",
    "Answer:"
   ]
  },
  {
   "cell_type": "code",
   "execution_count": 5,
   "id": "0d8fa277-6089-406a-9bcc-b02152ee6b7f",
   "metadata": {},
   "outputs": [
    {
     "name": "stdout",
     "output_type": "stream",
     "text": [
      "Greetings!\n"
     ]
    }
   ],
   "source": [
    "spam = 5\n",
    "if spam == 1:\n",
    "    print(\"Hello\")\n",
    "elif spam == 2:\n",
    "    print(\"Howdy\") \n",
    "else:\n",
    "    print(\"Greetings!\") "
   ]
  },
  {
   "cell_type": "markdown",
   "id": "57569249-5e5e-4892-98e2-9b9a17237e05",
   "metadata": {},
   "source": [
    "9.If your programme is stuck in an endless loop, what keys you’ll press?\n",
    "\n",
    "\n",
    "To stop the programme, we will need to interrupt the loop manually by pressing CTRL + C.\n"
   ]
  },
  {
   "cell_type": "markdown",
   "id": "d44cf138-235b-41a0-986c-90597b940228",
   "metadata": {},
   "source": [
    "10. How can you tell the difference between break and continue?\n",
    "\n",
    "Answer:\n",
    "\n",
    "difference between break and continue:\n",
    " \n",
    "                          \n",
    "Break:A break statement in Python alters the flow of a loop by terminating it once a specified condition is met.\n",
    "Continue: The continue statement in Python is used to skip the remaining code inside a loop for the current iteration only.\n"
   ]
  },
  {
   "cell_type": "markdown",
   "id": "47a9aa60-da3a-4694-8551-72998051756e",
   "metadata": {},
   "source": [
    "11. In a for loop, what is the difference between range(10), range(0, 10), and range(0, 10, 1)?\n",
    "\n",
    "\n",
    "for i in range(10):  ==> will print 0 - 9\n",
    "    print(i)\n",
    "    \n",
    "    \n",
    "for i in range(0, 10):  ==> will print 0 - 9\n",
    "    print(i)  \n",
    "    \n",
    "    \n",
    "for i in range(0, 10, 1):  ==> will print 0 - 9 since step = 1 with range (0,10)\n",
    "    print(i)      \n",
    "\n",
    "All 3 would print the same result from 0 to 9"
   ]
  },
  {
   "cell_type": "code",
   "execution_count": 7,
   "id": "f4790a13-da61-4cea-9b30-f596ed95a498",
   "metadata": {},
   "outputs": [
    {
     "name": "stdout",
     "output_type": "stream",
     "text": [
      "0\n",
      "1\n",
      "2\n",
      "3\n",
      "4\n",
      "5\n",
      "6\n",
      "7\n",
      "8\n",
      "9\n",
      "--------------------\n",
      "0\n",
      "1\n",
      "2\n",
      "3\n",
      "4\n",
      "5\n",
      "6\n",
      "7\n",
      "8\n",
      "9\n",
      "--------------------\n",
      "0\n",
      "1\n",
      "2\n",
      "3\n",
      "4\n",
      "5\n",
      "6\n",
      "7\n",
      "8\n",
      "9\n"
     ]
    }
   ],
   "source": [
    "\n",
    "for i in range(10):\n",
    "    print(i)\n",
    "    \n",
    "print(\"-\"*20)    \n",
    "for i in range(0, 10):\n",
    "    print(i)  \n",
    "    \n",
    "print(\"-\"*20)       \n",
    "for i in range(0, 10, 1):\n",
    "    print(i)    "
   ]
  },
  {
   "cell_type": "markdown",
   "id": "a6b2eff1-c3b4-4804-a706-6c03543dbb32",
   "metadata": {},
   "source": [
    "12. Write a short program that prints the numbers 1 to 10 using a for loop. Then write an equivalent program that prints the numbers 1 to 10 using a while loop."
   ]
  },
  {
   "cell_type": "code",
   "execution_count": 9,
   "id": "9dd5e44b-0988-443d-a643-2fc04a4d9651",
   "metadata": {},
   "outputs": [
    {
     "name": "stdout",
     "output_type": "stream",
     "text": [
      "For loop to print 1 - 10\n",
      "1\n",
      "2\n",
      "3\n",
      "4\n",
      "5\n",
      "6\n",
      "7\n",
      "8\n",
      "9\n",
      "10\n",
      "While loop to print 1 - 10\n",
      "1\n",
      "2\n",
      "3\n",
      "4\n",
      "5\n",
      "6\n",
      "7\n",
      "8\n",
      "9\n",
      "10\n"
     ]
    }
   ],
   "source": [
    "print(\"For loop to print 1 - 10\")    \n",
    "for i in range(1,11):\n",
    "    print(i)\n",
    "print(\"While loop to print 1 - 10\") \n",
    "i = 1\n",
    "while i<11:\n",
    "    print(i)\n",
    "    i+=1"
   ]
  },
  {
   "cell_type": "markdown",
   "id": "28140765-c632-4cf7-9d15-f0e903523fde",
   "metadata": {},
   "source": [
    "13. If you had a function named bacon() inside a module named spam, how would you call it after importing spam?\n",
    "\n",
    "Answer:\n",
    "\n",
    "The function can be called as spam.bacon()"
   ]
  }
 ],
 "metadata": {
  "kernelspec": {
   "display_name": "Python 3 (ipykernel)",
   "language": "python",
   "name": "python3"
  },
  "language_info": {
   "codemirror_mode": {
    "name": "ipython",
    "version": 3
   },
   "file_extension": ".py",
   "mimetype": "text/x-python",
   "name": "python",
   "nbconvert_exporter": "python",
   "pygments_lexer": "ipython3",
   "version": "3.10.6"
  }
 },
 "nbformat": 4,
 "nbformat_minor": 5
}
