{
 "cells": [
  {
   "cell_type": "markdown",
   "id": "6fec059b-5dcb-4525-9b7a-0d5638dac5ee",
   "metadata": {},
   "source": [
    "1. What does an empty dictionary's code look like?\n",
    "\n",
    "Answer:\n",
    "\n",
    "An empty dictionary's code look like two curly brackets: {}"
   ]
  },
  {
   "cell_type": "markdown",
   "id": "10a4ae2c-6792-4295-89ed-56cd4d2f59f5",
   "metadata": {},
   "source": [
    "2. What is the value of a dictionary value with the key 'foo' and the value 42?\n",
    "\n",
    "Answer:\n",
    "   The value of a dictionary value with the key 'foo' and the value 42 is {'foo': 42}\n",
    "   "
   ]
  },
  {
   "cell_type": "code",
   "execution_count": 1,
   "id": "5da2c8be-1260-48ce-a75d-88dc8c303e8a",
   "metadata": {},
   "outputs": [],
   "source": [
    " sample_dic = {'foo': 42} "
   ]
  },
  {
   "cell_type": "markdown",
   "id": "0105a8b7-2560-4e83-a3b5-7e403d636065",
   "metadata": {},
   "source": [
    "3 . What is the most significant distinction between a dictionary and a list?\n",
    "\n",
    "1. The items in a list are ordered items, while the items stored in a dictionary are unordered\n",
    "2. Dictionary has key, value pairs , but list doesn't have keys."
   ]
  },
  {
   "cell_type": "markdown",
   "id": "fb9d8b60-ccec-4416-b27a-ce3cc0188b32",
   "metadata": {},
   "source": [
    "4. What happens if you try to access spam['foo'] if spam is {'bar': 100}?\n",
    "\n",
    "Answer:\n",
    "\n",
    "it would throw KeyError as there is no key named 'foo'."
   ]
  },
  {
   "cell_type": "code",
   "execution_count": 2,
   "id": "4f2d24d3-1af8-4f05-82b9-d9630e583551",
   "metadata": {},
   "outputs": [
    {
     "ename": "KeyError",
     "evalue": "'foo'",
     "output_type": "error",
     "traceback": [
      "\u001b[0;31m---------------------------------------------------------------------------\u001b[0m",
      "\u001b[0;31mKeyError\u001b[0m                                  Traceback (most recent call last)",
      "Cell \u001b[0;32mIn [2], line 2\u001b[0m\n\u001b[1;32m      1\u001b[0m spam \u001b[38;5;241m=\u001b[39m {\u001b[38;5;124m'\u001b[39m\u001b[38;5;124mbar\u001b[39m\u001b[38;5;124m'\u001b[39m: \u001b[38;5;241m100\u001b[39m}\n\u001b[0;32m----> 2\u001b[0m \u001b[43mspam\u001b[49m\u001b[43m[\u001b[49m\u001b[38;5;124;43m'\u001b[39;49m\u001b[38;5;124;43mfoo\u001b[39;49m\u001b[38;5;124;43m'\u001b[39;49m\u001b[43m]\u001b[49m\n",
      "\u001b[0;31mKeyError\u001b[0m: 'foo'"
     ]
    }
   ],
   "source": [
    "spam = {'bar': 100}\n",
    "spam['foo']"
   ]
  },
  {
   "cell_type": "markdown",
   "id": "c5623a9e-1168-421b-b52c-f931e0c410bc",
   "metadata": {},
   "source": [
    "5. If a dictionary is stored in spam, what is the difference between the expressions 'cat' in spam and 'cat' in spam.keys()?\n",
    "\n",
    "Answer:\n",
    "\n",
    "the expressions 'cat' in spam checks whether there is a 'cat' key in the dictionary.\n",
    "\n",
    "'cat' in spam.keys() checks whether there is a 'cat' key in the dictionary.\n",
    "\n",
    "There is no difference. The in operator checks whether a value exists as a key in the dictionary."
   ]
  },
  {
   "cell_type": "code",
   "execution_count": 3,
   "id": "1dd9d60a-d401-4e19-84ce-52b718bbbbb8",
   "metadata": {},
   "outputs": [
    {
     "data": {
      "text/plain": [
       "True"
      ]
     },
     "execution_count": 3,
     "metadata": {},
     "output_type": "execute_result"
    }
   ],
   "source": [
    "spam = {'cat': 3}\n",
    "'cat' in spam"
   ]
  },
  {
   "cell_type": "code",
   "execution_count": 4,
   "id": "fa4ca753-7c3d-4b7e-92fc-a52a44a6e0e5",
   "metadata": {},
   "outputs": [
    {
     "data": {
      "text/plain": [
       "True"
      ]
     },
     "execution_count": 4,
     "metadata": {},
     "output_type": "execute_result"
    }
   ],
   "source": [
    "'cat' in spam.keys()"
   ]
  },
  {
   "cell_type": "markdown",
   "id": "4dbd42e9-4b89-4ae8-b426-71507f308162",
   "metadata": {},
   "source": [
    "6. If a dictionary is stored in spam, what is the difference between the expressions 'cat' in spam and 'cat' in spam.values()?\n",
    "\n",
    "Answer:\n",
    "\n",
    "The expressions 'cat' in spam checks whether there is a 'cat' key in the dictionary.\n",
    "\n",
    "'cat' in spam.values() checks whether there is a value for one of the keys in spam."
   ]
  },
  {
   "cell_type": "code",
   "execution_count": 8,
   "id": "c27203c9-0c5c-4e0f-bd24-13fea81d3aff",
   "metadata": {},
   "outputs": [
    {
     "data": {
      "text/plain": [
       "True"
      ]
     },
     "execution_count": 8,
     "metadata": {},
     "output_type": "execute_result"
    }
   ],
   "source": [
    "spam = {'cat': 3}\n",
    "'cat' in spam"
   ]
  },
  {
   "cell_type": "code",
   "execution_count": 10,
   "id": "600e8d83-8291-461e-919f-1d1c6feae8e7",
   "metadata": {},
   "outputs": [
    {
     "data": {
      "text/plain": [
       "False"
      ]
     },
     "execution_count": 10,
     "metadata": {},
     "output_type": "execute_result"
    }
   ],
   "source": [
    "'cat' in spam.values()"
   ]
  },
  {
   "cell_type": "markdown",
   "id": "df11a9a7-a352-44ed-aaf7-1490062ed790",
   "metadata": {},
   "source": [
    "7. What is a shortcut for the following code?\n",
    "\n",
    "if 'color' not in spam:\n",
    "    spam['color'] = 'black'\n",
    "\n",
    "Answer:\n",
    "\n",
    "spam.setdefault('color', 'black')"
   ]
  },
  {
   "cell_type": "code",
   "execution_count": 11,
   "id": "7c502083-2aa6-4a73-b21a-e822e8af9f86",
   "metadata": {},
   "outputs": [
    {
     "data": {
      "text/plain": [
       "'black'"
      ]
     },
     "execution_count": 11,
     "metadata": {},
     "output_type": "execute_result"
    }
   ],
   "source": [
    "spam.setdefault('color', 'black')"
   ]
  },
  {
   "cell_type": "markdown",
   "id": "aa41ba74-91c9-425a-bdb8-e93de4216b9f",
   "metadata": {},
   "source": [
    "8. How do you \"pretty print\" dictionary values using which module and function?\n",
    "\n",
    "Answer:\n",
    "\n",
    "pprint.pprint()\n",
    "\n",
    "While Python’s regular print() just abbreviates the output, pprint() explicitly notifies you of recursion and also adds the ID of the dictionary."
   ]
  },
  {
   "cell_type": "code",
   "execution_count": 15,
   "id": "d9e00d9e-1559-4565-b544-f183a7c88b1f",
   "metadata": {},
   "outputs": [
    {
     "name": "stdout",
     "output_type": "stream",
     "text": [
      "{'results': [{'a': {1, 2, 3}}, {'b': {1, 2, 3, 4, 5}}, {'c': {1, 2, 3, 4, 5, 6, 7}}, {'d': {1, 2, 3, 4, 5, 6, 7, 8, 9}}, {'e': 5}, {'f': 6}]}\n"
     ]
    }
   ],
   "source": [
    "sample_dic = {'results': [{'a' : {1, 2, 3}},{'b' : {1, 2, 3, 4, 5}},{'c' : {1, 2, 3, 4, 5, 6, 7}},{'d' : {1, 2, 3, 4, 5, 6, 7, 8, 9}},{'e' : 5},{'f' : 6}]}\n",
    "print(sample_dic)"
   ]
  },
  {
   "cell_type": "code",
   "execution_count": 16,
   "id": "414b58da-94b2-4623-bd39-6e518514ef2f",
   "metadata": {},
   "outputs": [
    {
     "name": "stdout",
     "output_type": "stream",
     "text": [
      "{'results': [{'a': {1, 2, 3}},\n",
      "             {'b': {1, 2, 3, 4, 5}},\n",
      "             {'c': {1, 2, 3, 4, 5, 6, 7}},\n",
      "             {'d': {1, 2, 3, 4, 5, 6, 7, 8, 9}},\n",
      "             {'e': 5},\n",
      "             {'f': 6}]}\n"
     ]
    }
   ],
   "source": [
    "from pprint import pprint\n",
    "\n",
    "sample_dic = {'results': [{'a' : {1, 2, 3}},{'b' : {1, 2, 3, 4, 5}},{'c' : {1, 2, 3, 4, 5, 6, 7}},{'d' : {1, 2, 3, 4, 5, 6, 7, 8, 9}},{'e' : 5},{'f' : 6}]}\n",
    "pprint(sample_dic)"
   ]
  },
  {
   "cell_type": "code",
   "execution_count": null,
   "id": "43504978-73a2-4390-8927-5b1d78d778bc",
   "metadata": {},
   "outputs": [],
   "source": []
  }
 ],
 "metadata": {
  "kernelspec": {
   "display_name": "Python 3 (ipykernel)",
   "language": "python",
   "name": "python3"
  },
  "language_info": {
   "codemirror_mode": {
    "name": "ipython",
    "version": 3
   },
   "file_extension": ".py",
   "mimetype": "text/x-python",
   "name": "python",
   "nbconvert_exporter": "python",
   "pygments_lexer": "ipython3",
   "version": "3.10.6"
  }
 },
 "nbformat": 4,
 "nbformat_minor": 5
}
