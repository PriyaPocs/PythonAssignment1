{
 "cells": [
  {
   "cell_type": "markdown",
   "id": "f60224fb-dafb-49f7-a9c5-2b72d919ad4a",
   "metadata": {},
   "source": [
    "1. What is a lambda function in Python, and how does it differ from a regular function?\n",
    "\n",
    "Answer:\n",
    "What is a lambda function in Python\n",
    "\n",
    "A lambda function is a small anonymous function.\n",
    "A lambda function can take any number of arguments, but can only have one expression.\n",
    "\n",
    "it differs from a regular function\n",
    "\n",
    "unlike a normal function, we don't surround the parameters of a lambda function with parentheses. If a lambda function takes two or more parameters, we list them with a comma.\n"
   ]
  },
  {
   "cell_type": "markdown",
   "id": "1e27c36a-a18a-40c5-8801-7dd537623aaa",
   "metadata": {},
   "source": [
    "2. Can a lambda function in Python have multiple arguments? If yes, how can you define and use them?\n",
    "\n",
    "Answer:\n",
    "\n",
    "Yes.lambda function in Python can have multiple arguments. If a lambda function takes two or more arguments, we list them with a comma."
   ]
  },
  {
   "cell_type": "code",
   "execution_count": 1,
   "id": "b72c4f40-429d-4ed6-8a62-fb8a66adf577",
   "metadata": {},
   "outputs": [
    {
     "name": "stdout",
     "output_type": "stream",
     "text": [
      "3\n"
     ]
    }
   ],
   "source": [
    "# lambda function with multiple arguments\n",
    "\n",
    "adder = lambda x, y: x + y\n",
    "print (adder (1, 2))"
   ]
  },
  {
   "cell_type": "markdown",
   "id": "0939f19c-490a-41b7-81d3-0b1d491327f8",
   "metadata": {},
   "source": [
    "3. How are lambda functions typically used in Python? Provide an example use case.\n",
    "\n",
    "We can use the lambda function to create simple expressions. For example, expressions that do not include complex structures such as if-else, for-loops, and so on."
   ]
  },
  {
   "cell_type": "code",
   "execution_count": 5,
   "id": "cff3d047-04f7-4099-85d0-81b509f4b92e",
   "metadata": {},
   "outputs": [
    {
     "name": "stdout",
     "output_type": "stream",
     "text": [
      "-----with filter()\n"
     ]
    },
    {
     "data": {
      "text/plain": [
       "[2, 4, 6, 8, 10]"
      ]
     },
     "execution_count": 5,
     "metadata": {},
     "output_type": "execute_result"
    }
   ],
   "source": [
    "# with filter()\n",
    "print(\"-----with filter()\")\n",
    "list1 = [1, 2, 3, 4, 5, 6, 7, 8, 9, 10]\n",
    "list(filter(lambda x: x % 2 == 0, list1))"
   ]
  },
  {
   "cell_type": "code",
   "execution_count": 6,
   "id": "029430aa-6938-4da3-973b-6bc6beb0af16",
   "metadata": {},
   "outputs": [
    {
     "name": "stdout",
     "output_type": "stream",
     "text": [
      "-----with map()\n"
     ]
    },
    {
     "data": {
      "text/plain": [
       "[4, 9, 16, 25]"
      ]
     },
     "execution_count": 6,
     "metadata": {},
     "output_type": "execute_result"
    }
   ],
   "source": [
    "print(\"-----with map()\")\n",
    "list1 = [2, 3, 4, 5]\n",
    "list(map(lambda x: pow(x, 2), list1))"
   ]
  },
  {
   "cell_type": "markdown",
   "id": "31d3dbde-7fc6-460b-bb61-19e65535fc4f",
   "metadata": {},
   "source": [
    "4. What are the advantages and limitations of lambda functions compared to regular functions in Python?\n",
    "\n",
    "Answer:\n",
    "\n",
    "Major Differences Between Lambda Expressions And Named Functions.\n",
    "Lambda Advantages.\n",
    "1.Can be passed immediately (without variables).\n",
    "2.Only one line of code can be included internally.\n",
    "3.Automatic return of results.\n",
    "4.There is neither a document string nor a name.\n",
    "\n",
    "Lambda Disadvantages.\n",
    "1.Lambda expressions are a strange and unfamiliar syntax to many Python programmers.\n",
    "2.Lambda functions themselves lack names and documentation, meaning that the only way to know what they do is to read the code.\n",
    "3.Lambda expressions can only contain one statement, so some readable language features, such as tuple unpacking, cannot be used with them.\n",
    "4.Lambda functions can often be replaced with existing functions in the standard library or Python built-in functions."
   ]
  },
  {
   "cell_type": "markdown",
   "id": "dc208c59-4c45-4b8b-884f-c04ad6fe9bba",
   "metadata": {},
   "source": [
    "5. Are lambda functions in Python able to access variables defined outside of their own scope? Explain with an example.\n",
    "\n",
    "Answer:\n",
    "\n",
    "Yes. lambda functions in Python are able to access variables defined outside of their own scope.\n"
   ]
  },
  {
   "cell_type": "code",
   "execution_count": 11,
   "id": "9d16abba-d7c0-451c-8ffb-3730a4d32a44",
   "metadata": {},
   "outputs": [
    {
     "data": {
      "text/plain": [
       "False"
      ]
     },
     "execution_count": 11,
     "metadata": {},
     "output_type": "execute_result"
    }
   ],
   "source": [
    "#Eg. for lambda functions in Python are able to access variables defined outside of their own scope.\n",
    "i=12;x=20\n",
    "\n",
    "sample = lambda x, n=i: x%n==0\n",
    "sample(x)"
   ]
  },
  {
   "cell_type": "markdown",
   "id": "36608c51-1479-4e34-b95e-06c8460d6b8f",
   "metadata": {},
   "source": [
    "6. Write a lambda function to calculate the square of a given number.\n",
    "\n",
    "Answer:"
   ]
  },
  {
   "cell_type": "code",
   "execution_count": 12,
   "id": "7a0a7c03-af32-4b94-acf4-250887af29cd",
   "metadata": {},
   "outputs": [
    {
     "data": {
      "text/plain": [
       "25"
      ]
     },
     "execution_count": 12,
     "metadata": {},
     "output_type": "execute_result"
    }
   ],
   "source": [
    "result = lambda x : x*x\n",
    "result(5)"
   ]
  },
  {
   "cell_type": "markdown",
   "id": "ed0daae1-1fd4-4142-a4c2-fd0d2b230f80",
   "metadata": {},
   "source": [
    "7. Create a lambda function to find the maximum value in a list of integers.\n",
    "\n",
    "Answer:"
   ]
  },
  {
   "cell_type": "code",
   "execution_count": 14,
   "id": "bbb300fd-a73f-4335-8799-b1513d8ab190",
   "metadata": {},
   "outputs": [
    {
     "data": {
      "text/plain": [
       "8"
      ]
     },
     "execution_count": 14,
     "metadata": {},
     "output_type": "execute_result"
    }
   ],
   "source": [
    "int_list = [1,4,2,5,8,1,0,7]\n",
    "\n",
    "Max_no = lambda x: max(x)\n",
    "Max_no(int_list)"
   ]
  },
  {
   "cell_type": "markdown",
   "id": "d50a8d47-5c88-4bf1-92a8-ee8913df3b7e",
   "metadata": {},
   "source": [
    "8. Implement a lambda function to filter out all the even numbers from a list of integers."
   ]
  },
  {
   "cell_type": "code",
   "execution_count": 15,
   "id": "0454fd21-e59d-4e48-924f-c0cf6ef4ce3a",
   "metadata": {},
   "outputs": [
    {
     "name": "stdout",
     "output_type": "stream",
     "text": [
      "Original list of integers:\n",
      "[1, 2, 3, 4, 5, 6, 7, 8, 9, 10]\n",
      "\n",
      "Even numbers from the said list:\n",
      "[2, 4, 6, 8, 10]\n"
     ]
    }
   ],
   "source": [
    "nums = [1, 2, 3, 4, 5, 6, 7, 8, 9, 10]\n",
    "print(\"Original list of integers:\")\n",
    "print(nums)\n",
    "print(\"\\nEven numbers from the list:\")\n",
    "even_nums = list(filter(lambda x: x%2 == 0, nums))\n",
    "print(even_nums)"
   ]
  },
  {
   "cell_type": "markdown",
   "id": "dd54e1b2-4ff6-45b3-982a-0456429e8f4f",
   "metadata": {},
   "source": [
    "9. Write a lambda function to sort a list of strings in ascending order based on the length of each string."
   ]
  },
  {
   "cell_type": "code",
   "execution_count": 17,
   "id": "7cdc00c9-9ed5-4101-bdd5-de983b9e8521",
   "metadata": {},
   "outputs": [
    {
     "name": "stdout",
     "output_type": "stream",
     "text": [
      "['Sam', 'John', 'Arjun', 'Priya', 'Malini', 'Cooper', 'Abhisek']\n"
     ]
    }
   ],
   "source": [
    "name_list = [\"Abhisek\",\"Arjun\",\"Malini\",\"Priya\",\"John\",\"Sam\",\"Cooper\"]\n",
    "\n",
    "sortedList = sorted(name_list, key=lambda x: len(x))\n",
    "print(sortedList)"
   ]
  },
  {
   "cell_type": "markdown",
   "id": "865e7207-6df6-40c2-bd2a-e7f187cb067f",
   "metadata": {},
   "source": [
    "10. Create a lambda function that takes two lists as input and returns a new list containing the common elements between the two lists."
   ]
  },
  {
   "cell_type": "code",
   "execution_count": 3,
   "id": "dd22d00e-2d32-4da6-af75-2ad11e30641c",
   "metadata": {},
   "outputs": [
    {
     "name": "stdout",
     "output_type": "stream",
     "text": [
      "not_in_a {0, 4}\n",
      "not_in_b {1, 5, 9, 7}\n",
      "[2, 3, 6]\n"
     ]
    }
   ],
   "source": [
    "import itertools\n",
    "\n",
    "def common_member(a, b):\n",
    "    a_set = set(a)\n",
    "    b_set = set(b)\n",
    "    #Using filterfalse\n",
    "    not_in_a = set(itertools.filterfalse(lambda x: x in a_set, b_set))\n",
    "    not_in_b = set(itertools.filterfalse(lambda x: x in b_set, a_set))\n",
    "    print(\"not_in_a\",not_in_a)\n",
    "    print(\"not_in_b\",not_in_b) \n",
    "    result = set(a_set).intersection(set(b_set) - not_in_a).union(set(b_set).intersection(set(a_set) - not_in_b))\n",
    "    return list(result)\n",
    "\n",
    "\n",
    "\n",
    "\n",
    "list1 = [1,2,3,5,6,7,9]\n",
    "list2 = [2,3,4,0,6]\n",
    "\n",
    "common_list = common_member(list1, list2)\n",
    "print(common_list)"
   ]
  },
  {
   "cell_type": "markdown",
   "id": "685eea2d-e14d-422f-903e-6e7fe119f505",
   "metadata": {},
   "source": [
    "11. Write a recursive function to calculate the factorial of a given positive integer.\n",
    "\n",
    "Answer:"
   ]
  },
  {
   "cell_type": "code",
   "execution_count": 25,
   "id": "c3ae89ab-b5ab-42d9-9c2c-c4135e4a4ff4",
   "metadata": {},
   "outputs": [
    {
     "name": "stdin",
     "output_type": "stream",
     "text": [
      "Enter a no to find factorial:  5\n"
     ]
    },
    {
     "name": "stdout",
     "output_type": "stream",
     "text": [
      "Factorial of 5 is 120\n"
     ]
    }
   ],
   "source": [
    "def fact(n):\n",
    "    if n == 1:\n",
    "        return 1\n",
    "    else:\n",
    "        return n * fact(n-1)\n",
    "a1 = input(\"Enter a no to find factorial: \")\n",
    "a = int(a1)\n",
    "if a == 0:\n",
    "    result = 0\n",
    "else:\n",
    "    result = fact(a)\n",
    "print(\"Factorial of\",a1,\"is\",result)\n",
    "\n",
    "        "
   ]
  },
  {
   "cell_type": "markdown",
   "id": "8dd5b9e5-cf64-4f4b-810f-fe7a2ce54cec",
   "metadata": {},
   "source": [
    "12. Implement a recursive function to compute the nth Fibonacci number.\n",
    "\n",
    "Answer:\n"
   ]
  },
  {
   "cell_type": "code",
   "execution_count": 3,
   "id": "7887e76a-d3d2-479b-b1eb-8d26c601a90c",
   "metadata": {},
   "outputs": [
    {
     "data": {
      "text/plain": [
       "8"
      ]
     },
     "execution_count": 3,
     "metadata": {},
     "output_type": "execute_result"
    }
   ],
   "source": [
    "def febonacci(n):\n",
    "    if n == 0 or n == 1:\n",
    "        return 1\n",
    "    else:\n",
    "        return febonacci(n-1)+febonacci(n-2)\n",
    "febonacci(5)    "
   ]
  },
  {
   "cell_type": "markdown",
   "id": "948c1644-a4ce-45ff-9fc2-c5324095b1f5",
   "metadata": {},
   "source": [
    "13. Create a recursive function to find the sum of all the elements in a given list.\n",
    "\n",
    "Answer:"
   ]
  },
  {
   "cell_type": "code",
   "execution_count": 2,
   "id": "483c5ca1-6606-4189-8752-f5b48065eb3a",
   "metadata": {},
   "outputs": [
    {
     "name": "stdout",
     "output_type": "stream",
     "text": [
      "9\n"
     ]
    },
    {
     "data": {
      "text/plain": [
       "45"
      ]
     },
     "execution_count": 2,
     "metadata": {},
     "output_type": "execute_result"
    }
   ],
   "source": [
    "def recursive_sum(list,n):\n",
    "    if n==0:\n",
    "        return 0\n",
    "    else:\n",
    "        return list[n-1] + recursive_sum(list,n-1)  \n",
    "list = [1,2,3,4,5,6,7,8,9] \n",
    "print(len(list))\n",
    "n = len(list)\n",
    "recursive_sum(list,n)    "
   ]
  },
  {
   "cell_type": "markdown",
   "id": "202448a7-499d-4924-8f0f-e0274b7e4760",
   "metadata": {},
   "source": [
    "14. Write a recursive function to determine whether a given string is a palindrome.\n",
    "\n",
    "Answer:\n"
   ]
  },
  {
   "cell_type": "code",
   "execution_count": 14,
   "id": "3c0b61cc-9052-42fe-ac13-56442c32eed4",
   "metadata": {},
   "outputs": [
    {
     "name": "stdin",
     "output_type": "stream",
     "text": [
      "Enter a string to find whether it's palindrome or not Madam\n"
     ]
    },
    {
     "name": "stdout",
     "output_type": "stream",
     "text": [
      "The given string \"Madam\" is palindrome.\n"
     ]
    }
   ],
   "source": [
    "def check_palindrome(given_string,first, last):\n",
    "    if (first < last + 1):\n",
    "        first += 1\n",
    "        last -= 1\n",
    "        return check_palindrome(given_string, first, last);\n",
    "    if (first == last):\n",
    "        return 1\n",
    "    if (given_string[first] != given_string[last]):\n",
    "        return 0\n",
    "    return 1\n",
    "    \n",
    "given_string = input(\"Enter a string to find whether it\\'s palindrome or not\")\n",
    "string_length = len(given_string)\n",
    "if string_length == 0:\n",
    "    result = 1\n",
    "else:   \n",
    "    first = 0; last = string_length-1;\n",
    "    result = check_palindrome(given_string,first, last)\n",
    "if result == 1:\n",
    "    print(\"The given string \\\"\"+ given_string + \"\\\" is palindrome.\")\n",
    "else:\n",
    "    print(\"The given string \\\"\"+ given_string + \"\\\" is not palindrome.\")      "
   ]
  },
  {
   "cell_type": "markdown",
   "id": "d04de986-e25b-4376-8cd7-ad361add9e90",
   "metadata": {},
   "source": [
    "15. Implement a recursive function to find the greatest common divisor (GCD) of two positive integers.\n",
    "\n",
    "Answer:"
   ]
  },
  {
   "cell_type": "code",
   "execution_count": 22,
   "id": "e4de85ed-558a-4063-bf07-267a7f6d3cf1",
   "metadata": {},
   "outputs": [
    {
     "name": "stdout",
     "output_type": "stream",
     "text": [
      "GCD of 5 and 3 is  1\n"
     ]
    }
   ],
   "source": [
    "# GCD of Two Numbers\n",
    "def gcd(n1,n2):\n",
    "    # print(\"n1 = \",n1,\"n2 = \",n2)\n",
    "    if (n2 != 0):\n",
    "        return gcd(n2, n1 % n2)\n",
    "    else:\n",
    "        return n1  \n",
    "n1 = 5\n",
    "n2 = 3\n",
    "print(\"GCD of\",n1,\"and\",n2,\"is \",gcd(n1,n2))"
   ]
  },
  {
   "cell_type": "code",
   "execution_count": null,
   "id": "d1434c8d-0008-4d38-a2b4-09892e9bec2c",
   "metadata": {},
   "outputs": [],
   "source": []
  }
 ],
 "metadata": {
  "kernelspec": {
   "display_name": "Python 3 (ipykernel)",
   "language": "python",
   "name": "python3"
  },
  "language_info": {
   "codemirror_mode": {
    "name": "ipython",
    "version": 3
   },
   "file_extension": ".py",
   "mimetype": "text/x-python",
   "name": "python",
   "nbconvert_exporter": "python",
   "pygments_lexer": "ipython3",
   "version": "3.10.6"
  }
 },
 "nbformat": 4,
 "nbformat_minor": 5
}
