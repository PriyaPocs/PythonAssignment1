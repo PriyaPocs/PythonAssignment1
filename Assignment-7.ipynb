{
 "cells": [
  {
   "cell_type": "markdown",
   "id": "f583cc1a-c964-4c80-a90e-3f12029b2f02",
   "metadata": {},
   "source": [
    "1. Create two int type variables, apply addition, subtraction, division and multiplications and store the results in variables. Then print the data in the following format by calling the variables:\n",
    "First variable is __ & second variable is __.\n",
    "Addition: __ + __ = __\n",
    "Subtraction: __ - __ = __\n",
    "Multiplication: __ * __ = __\n",
    "Division: __ / __ = __"
   ]
  },
  {
   "cell_type": "code",
   "execution_count": 9,
   "id": "d4782da3-6c4d-42fe-9728-5a0d3e59ef13",
   "metadata": {},
   "outputs": [
    {
     "name": "stdout",
     "output_type": "stream",
     "text": [
      "First variable is a & second variable is b.\n",
      "First variable value is 6 & second variable value is 3.\n",
      "Addition: 6 + 3 = 9\n",
      "Subtraction: 6 - 3 = 3\n",
      "Multiplication: 6 * 3 = 18\n",
      "Division: 6 / 3 = 2.0\n"
     ]
    }
   ],
   "source": [
    "a = 6\n",
    "b = 3\n",
    "addition = a+b\n",
    "subtraction = a-b\n",
    "multiplication = a*b\n",
    "division = a/b\n",
    "print('First variable name is a & second variable name is b.')\n",
    "print('First variable value is '+ str(a)+ ' & second variable value is '+str(b)+'.')\n",
    "print('Addition: '+ str(a)+ ' + '+ str(b)+ ' = '+ str(addition))    \n",
    "print('Subtraction: '+ str(a)+ ' - '+ str(b)+ ' = '+ str(subtraction)) \n",
    "print('Multiplication: '+ str(a)+ ' * '+ str(b)+ ' = '+ str(multiplication))  \n",
    "print('Division: '+ str(a)+ ' / '+ str(b)+ ' = '+ str(division)) \n"
   ]
  },
  {
   "cell_type": "markdown",
   "id": "0d11fa7d-9c6d-4413-88fe-a09bf8063d71",
   "metadata": {},
   "source": [
    "2. What is the difference between the following operators:\n",
    "(i) ‘/’ & ‘//’\n",
    "(ii) ‘**’ & ‘^’"
   ]
  },
  {
   "cell_type": "markdown",
   "id": "dbf116d7-45fc-4cbc-8f2d-0ae681004a25",
   "metadata": {},
   "source": [
    "Answer:\n",
    "\n",
    "1. Performing division using the ‘/’ operator\n",
    "This method of division is considered as the ‘classic division’. The ‘/’ single slash carries out the float division. The output of this operator is always a quotient with a float datatype. The output remains float even if the input numbers are integer values. Even the sign of the input operands doesn’t matter about the output.\n",
    "\n",
    "\n",
    "2. Performing division using the ‘//’ operator\n",
    "This method of division is considered the ‘true division’. The ‘//’ double slash carries out integer division which is also known as floor division. The output of this operator will be the quotient rounded off to the closest whole number. For example, 15 divided by 6 is actually 2.5 but it gets rounded off to 2."
   ]
  },
  {
   "cell_type": "code",
   "execution_count": 10,
   "id": "3e80eb08-3022-4c43-9224-df4c7396c269",
   "metadata": {},
   "outputs": [
    {
     "name": "stdout",
     "output_type": "stream",
     "text": [
      "2.5\n",
      "5.0\n",
      "-7.5\n",
      "2\n"
     ]
    }
   ],
   "source": [
    "#integer input\n",
    "x1 = 15\n",
    "y1 = 6\n",
    "print(x1/y1)\n",
    "\n",
    "#float input\n",
    "x2 = 15.0\n",
    "y2 = 3.0\n",
    "print(x2/y2)\n",
    "\n",
    "\n",
    "#negative input\n",
    "x3 = -15\n",
    "y3 = 2\n",
    "print(x3/y3)\n",
    "\n",
    "# Eg for //\n",
    "\n",
    "#integer input\n",
    "x1 = 15\n",
    "y1 = 6\n",
    "print(x1//y1)"
   ]
  },
  {
   "cell_type": "markdown",
   "id": "03c95125-fe7d-4fc8-840d-e01a07b003c4",
   "metadata": {},
   "source": [
    "3. List the logical operators.\n",
    "\n",
    "There are three types of logical operators in Python:\n",
    "\n",
    "and Operator\n",
    "or Operator\n",
    "not Operator\n",
    "\n",
    "and Operator returns true only when both conditions are true simultaneously.\n",
    "The or Operator returns True if either of the conditions is met.\n",
    "not Operator inverts the result, i.e., True changes to False and Vice versa.\n",
    "\n"
   ]
  },
  {
   "cell_type": "markdown",
   "id": "442da1d3-4deb-4d0a-90c1-d2db82fd6570",
   "metadata": {},
   "source": [
    "4. Explain right shift operator and left shift operator with examples.\n",
    "\n",
    "Answer:\n",
    "\n",
    "Bitwise right shift: Shifts the bits of the number to the right and fills 0 on voids left( fills 1 in the case of a negative number) as a result. Similar effect as of dividing the number with some power of two.\n",
    "\n",
    "Example 1:\n",
    "a = 10 = 0000 1010 (Binary)\n",
    "a >> 1 = 0000 0101 = 5\n",
    "\n",
    "Example 2:\n",
    "a = -10 = 1111 0110 (Binary)\n",
    "a >> 1 = 1111 1011 = -5 \n",
    "\n",
    "Bitwise left shift: Shifts the bits of the number to the left and fills 0 on voids right as a result. Similar effect as of multiplying the number with some power of two.\n",
    "Example 1:\n",
    "a = 5 = 0000 0101 (Binary)\n",
    "a << 1 = 0000 1010 = 10\n",
    "a << 2 = 0001 0100 = 20 \n",
    "\n",
    "Example 2:\n",
    "b = -10 = 1111 0110 (Binary)\n",
    "b << 1 = 1110 1100 = -20\n",
    "b << 2 = 1101 1000 = -40 "
   ]
  },
  {
   "cell_type": "code",
   "execution_count": 11,
   "id": "1f26dcce-5ff2-4e46-9789-5ac4b31ad6eb",
   "metadata": {},
   "outputs": [
    {
     "name": "stdout",
     "output_type": "stream",
     "text": [
      "a >> 1 = 5\n",
      "b >> 1 = -5\n",
      "a << 1 = 10\n",
      "b << 1 = -20\n"
     ]
    }
   ],
   "source": [
    "# Python program to show\n",
    "# shift operators\n",
    "\n",
    "a = 10\n",
    "b = -10\n",
    "\n",
    "# print bitwise right shift operator\n",
    "print(\"a >> 1 =\", a >> 1)\n",
    "print(\"b >> 1 =\", b >> 1)\n",
    "\n",
    "a = 5\n",
    "b = -10\n",
    "\n",
    "# print bitwise left shift operator\n",
    "print(\"a << 1 =\", a << 1)\n",
    "print(\"b << 1 =\", b << 1)\n"
   ]
  },
  {
   "cell_type": "markdown",
   "id": "6d06b18f-8953-4de2-af18-8ff8ab333bab",
   "metadata": {},
   "source": [
    "5. Create a list containing int type data of length 15. Then write a code to check if 10 is present in the list or not.\n",
    "Answer:"
   ]
  },
  {
   "cell_type": "code",
   "execution_count": 19,
   "id": "1e1e4b22-6dbb-4b91-9603-fdda190a2f1e",
   "metadata": {},
   "outputs": [
    {
     "name": "stdout",
     "output_type": "stream",
     "text": [
      "data_list :  [0, 1, 2, 3, 4, 5, 6, 7, 8, 9, 10, 11, 12, 13, 14]\n",
      "length of the data_list :  15\n",
      "10 is present in the data_list\n"
     ]
    }
   ],
   "source": [
    "def createList(r1, r2):\n",
    "\treturn list(range(r1, r2))\n",
    "\t\n",
    "r1, r2 = 0, 15\n",
    "data_list = createList(r1, r2)\n",
    "print('data_list : ',data_list)\n",
    "print('length of the data_list : ',len(data_list))\n",
    "if 10 in data_list:\n",
    "    print(\"10 is present in the data_list\")\n",
    "else:\n",
    "    print(\"10 is not present in the data_list\")\n",
    "\n"
   ]
  },
  {
   "cell_type": "code",
   "execution_count": null,
   "id": "af207eb4-959f-4382-be34-b00a34b7bc25",
   "metadata": {},
   "outputs": [],
   "source": []
  }
 ],
 "metadata": {
  "kernelspec": {
   "display_name": "Python 3 (ipykernel)",
   "language": "python",
   "name": "python3"
  },
  "language_info": {
   "codemirror_mode": {
    "name": "ipython",
    "version": 3
   },
   "file_extension": ".py",
   "mimetype": "text/x-python",
   "name": "python",
   "nbconvert_exporter": "python",
   "pygments_lexer": "ipython3",
   "version": "3.10.6"
  }
 },
 "nbformat": 4,
 "nbformat_minor": 5
}
