{
 "cells": [
  {
   "cell_type": "markdown",
   "id": "84c60e96-950f-43c7-b1e7-221ea674f81e",
   "metadata": {},
   "source": [
    "1. What is the role of the 'else' block in a try-except statement? Provide an example scenario where it would be useful.\n",
    "\n",
    "Answer:\n",
    "\n",
    "The try block is used to test a block of code for errors. The except block is used to handle the error. The else block is used to execute code when there is no error.\n"
   ]
  },
  {
   "cell_type": "code",
   "execution_count": 2,
   "id": "712883cb-e19a-4a63-8f06-05b52d613027",
   "metadata": {},
   "outputs": [
    {
     "name": "stdin",
     "output_type": "stream",
     "text": [
      "Enter Divident:  10\n",
      "Enter Divisor:  0\n"
     ]
    },
    {
     "name": "stdout",
     "output_type": "stream",
     "text": [
      "Error\n"
     ]
    }
   ],
   "source": [
    "# Ex to else block scenario\n",
    "a1 = input(\"Enter Divident: \")\n",
    "b1 = input(\"Enter Divisor: \")\n",
    "\n",
    "a = int(a1)\n",
    "b = int(b1)\n",
    "try:\n",
    "    c = a/b\n",
    "except:\n",
    "    print(\"Error\")\n",
    "else:\n",
    "    print(\"Answer = \",int(c))"
   ]
  },
  {
   "cell_type": "markdown",
   "id": "7b92ca29-b5f6-451a-9efb-e91269555a56",
   "metadata": {},
   "source": [
    "2. Can a try-except block be nested inside another try-except block? Explain with an example.\n",
    "\n",
    "Answer:\n",
    "   Yes.try-except block can be nested inside another try-except block.\n",
    "   \n",
    "Example:   "
   ]
  },
  {
   "cell_type": "code",
   "execution_count": 4,
   "id": "3f9a4fdd-890a-4b3d-9cc6-251854f2c48c",
   "metadata": {},
   "outputs": [
    {
     "name": "stdout",
     "output_type": "stream",
     "text": [
      "outer try block\n",
      "outer except block- ZeroDivisionError\n",
      "outer finally block\n"
     ]
    }
   ],
   "source": [
    "try:\n",
    "    print(\"outer try block\")\n",
    "    print(10/0)\n",
    "    try:\n",
    "        print(\"Inner try block\")\n",
    "    except ZeroDivisionError:\n",
    "        print(\"Inner except block\")\n",
    "    finally:\n",
    "        print(\"Inner finally block\")\n",
    "except:\n",
    "    print(\"outer except block- ZeroDivisionError\")\n",
    "finally:\n",
    "    print(\"outer finally block\")\n",
    "    "
   ]
  },
  {
   "cell_type": "markdown",
   "id": "78bb5917-f195-45fd-8434-55b5ea3f0be9",
   "metadata": {},
   "source": [
    "3. How can you create a custom exception class in Python? Provide an example that demonstrates its usage.\n",
    "\n",
    "Answer:\n",
    "In Python, we can define custom exceptions by creating a new class that is derived from the built-in Exception class.\n",
    "\n",
    "class CustomError(Exception):\n",
    "    ...\n",
    "    pass\n",
    "\n",
    "try:\n",
    "   ...\n",
    "\n",
    "except CustomError:\n",
    "    ...\n"
   ]
  },
  {
   "cell_type": "code",
   "execution_count": 7,
   "id": "2830fbec-b375-490d-a842-7d0bd4436589",
   "metadata": {},
   "outputs": [
    {
     "name": "stdout",
     "output_type": "stream",
     "text": [
      "111\n"
     ]
    },
    {
     "name": "stdin",
     "output_type": "stream",
     "text": [
      "Enter a number:  13\n"
     ]
    },
    {
     "name": "stdout",
     "output_type": "stream",
     "text": [
      "Exception occurred: Invalid Age\n"
     ]
    }
   ],
   "source": [
    "# define Python user-defined exceptions\n",
    "class InvalidAgeException(Exception):\n",
    "    \"Raised when the input value is less than 18\"\n",
    "    pass\n",
    "\n",
    "# voting age\n",
    "number = 18\n",
    "\n",
    "try:\n",
    "    input_num = int(input(\"Enter a number: \"))\n",
    "    if input_num < number:\n",
    "        raise InvalidAgeException\n",
    "    else:\n",
    "        print(\"Eligible to Vote\")\n",
    "        \n",
    "except InvalidAgeException:\n",
    "    print(\"Exception occurred: Invalid Age\")"
   ]
  },
  {
   "cell_type": "markdown",
   "id": "03b863a1-7c6c-419e-8cc0-c08eaaec1412",
   "metadata": {},
   "source": [
    "4. What are some common exceptions that are built-in to Python?\n",
    "\n",
    "Answer:\n",
    "\n",
    "1.ArithmeticError - \tRaised when an error occurs in numeric calculations\n",
    "\n",
    "2.EOFError -\tRaised when the input() method hits an \"end of file\" condition (EOF)\n",
    "\n",
    "3.FloatingPointError - Raised when a floating point calculation fails\n",
    "\n",
    "4.ImportError\t- Raised when an imported module does not exist\n",
    "\n",
    "5.IndentationError - Raised when indentation is not correct\n",
    "\n",
    "6.IndexError - Raised when an index of a sequence does not exist\n",
    "\n",
    "7.OSError - Raised when a system related operation causes an error\n",
    "\n",
    "8.OverflowError -\tRaised when the result of a numeric calculation is too large\n",
    "\n",
    "9.SyntaxError - Raised when a syntax error occurs\n",
    "\n",
    "10.ValueError - Raised when there is a wrong value in a specified data type\n",
    "\n",
    "11.ZeroDivisionError - Raised when the second operator in a division is zero\n",
    "\n"
   ]
  },
  {
   "cell_type": "markdown",
   "id": "3dc6652e-30c0-4575-ae7e-f91d1497a52d",
   "metadata": {},
   "source": [
    "5. What is logging in Python, and why is it important in software development?\n",
    "\n",
    "Answer:\n",
    "Logging is a way to store information about our script and track events that occur. \n",
    "\n",
    "When writing any complex script in Python, logging is essential for debugging software as we develop it. Without logging, finding the source of a problem in our code may be extremely time consuming.\n"
   ]
  },
  {
   "cell_type": "markdown",
   "id": "96744f5f-9a9c-4f6c-a35d-fc6f2bc5570f",
   "metadata": {},
   "source": [
    "6. Explain the purpose of log levels in Python logging and provide examples of when each log level would be appropriate.\n",
    "\n",
    "Answer:\n",
    "\n",
    "Log levels relate to the “importance” of the log. For example, an “error” log is a top priority and should be considered more urgent than a “warn” log. A “debug” log is usually only useful when the application is being debugged.\n",
    "\n",
    "\n",
    "Python has six log levels with each one assigned a specific integer indicating the severity of the log:\n",
    "\n",
    "DEBUG: Detailed information, typically of interest only when diagnosing problems.\n",
    "\n",
    "INFO: Confirmation that things are working as expected.\n",
    "\n",
    "WARNING: An indication that something unexpected happened, or may happen in the future (e.g. ‘disk space low’). The software is still \n",
    "working as expected.\n",
    "\n",
    "ERROR: More serious problem that prevented the software from performing a function.\n",
    "\n",
    "CRITICAL: A very serious error, indicating that the program itself may be unable to continue running.\n",
    "\n",
    "\n",
    "NOTSET=0\n",
    "\n",
    "DEBUG=10\n",
    "\n",
    "INFO=20\n",
    "\n",
    "WARN=30\n",
    "\n",
    "ERROR=40\n",
    "\n",
    "CRITICAL=50\n",
    "\n",
    "Example:\n"
   ]
  },
  {
   "cell_type": "code",
   "execution_count": 8,
   "id": "aee7bc6b-391e-4553-b1f2-26e205d611a3",
   "metadata": {},
   "outputs": [
    {
     "name": "stderr",
     "output_type": "stream",
     "text": [
      "WARNING:root:This is a warning message\n",
      "ERROR:root:This is an error message\n",
      "CRITICAL:root:This is a critical message\n"
     ]
    }
   ],
   "source": [
    "import logging\n",
    "\n",
    "logging.debug('This is a debug message')\n",
    "logging.info('This is an info message')\n",
    "logging.warning('This is a warning message')\n",
    "logging.error('This is an error message')\n",
    "logging.critical('This is a critical message')"
   ]
  },
  {
   "cell_type": "code",
   "execution_count": 9,
   "id": "da37e276-3cc8-4c05-8d0a-07a305b8a8e5",
   "metadata": {},
   "outputs": [
    {
     "data": {
      "text/plain": [
       "3"
      ]
     },
     "execution_count": 9,
     "metadata": {},
     "output_type": "execute_result"
    }
   ],
   "source": [
    "import logging\n",
    "\n",
    "logging.basicConfig(level=logging.DEBUG)\n",
    "\n",
    "def add(x, y):\n",
    "    logging.debug('Variables are %s and %s', x, y)\n",
    "    return x + y\n",
    "\n",
    "add(1, 2)"
   ]
  },
  {
   "cell_type": "code",
   "execution_count": 11,
   "id": "f83b3b1b-649b-4626-b8f1-10482e242473",
   "metadata": {},
   "outputs": [],
   "source": [
    "logging.basicConfig(level=logging.INFO)\n",
    "\n",
    "def login(user):\n",
    "    logging.info('User %s logged in', user)\n",
    "\n",
    "login('Admin User')"
   ]
  },
  {
   "cell_type": "code",
   "execution_count": 12,
   "id": "20559009-a212-418c-aaeb-9532c4a07a62",
   "metadata": {},
   "outputs": [
    {
     "name": "stderr",
     "output_type": "stream",
     "text": [
      "WARNING:root:Sorry you have Low balance: 10000\n"
     ]
    }
   ],
   "source": [
    "logging.basicConfig(level=logging.WARNING)\n",
    "\n",
    "def MyBalance(amount):\n",
    "    if amount < 40000:\n",
    "        logging.warning('Sorry you have Low balance: %s', amount)\n",
    "\n",
    "MyBalance(10000)"
   ]
  },
  {
   "cell_type": "code",
   "execution_count": 13,
   "id": "a13026a9-bcd4-4eea-887e-216c5896e152",
   "metadata": {},
   "outputs": [
    {
     "name": "stderr",
     "output_type": "stream",
     "text": [
      "ERROR:root:You are trying to divide by zero, which is not allowed\n"
     ]
    }
   ],
   "source": [
    "logging.basicConfig(level=logging.ERROR)\n",
    "\n",
    "def LetUsDivide(n, d):\n",
    "    try:\n",
    "        result = n / d\n",
    "    except ZeroDivisionError:\n",
    "        logging.error('You are trying to divide by zero, which is not allowed')\n",
    "    else:\n",
    "        return result\n",
    "\n",
    "LetUsDivide(4, 0)"
   ]
  },
  {
   "cell_type": "code",
   "execution_count": 14,
   "id": "441227da-4aef-460e-a351-6ac8ecbb2cb4",
   "metadata": {},
   "outputs": [
    {
     "name": "stderr",
     "output_type": "stream",
     "text": [
      "CRITICAL:root:System failure: You need to handle the issue now\n"
     ]
    }
   ],
   "source": [
    "import logging\n",
    "\n",
    "logging.basicConfig(level=logging.CRITICAL)\n",
    "\n",
    "def LetUsCheckSystem(sys):\n",
    "    if sys != 'OK':\n",
    "        logging.critical('System failure: %s', sys)\n",
    "\n",
    "LetUsCheckSystem('You need to handle the issue now')"
   ]
  },
  {
   "cell_type": "markdown",
   "id": "2279d7c6-daa8-48d7-b879-7f64e53bc779",
   "metadata": {},
   "source": [
    "7. What are log formatters in Python logging, and how can you customise the log message format using formatters?\n",
    "\n",
    "Answer:\n",
    "\n",
    "log formatters in Python logging are used to Set the format of the logs.This format includes the log timestamp, log level and log message.\n",
    "\n"
   ]
  },
  {
   "cell_type": "code",
   "execution_count": 6,
   "id": "dd93f66f-24fd-4095-89fc-63fcaa915287",
   "metadata": {},
   "outputs": [
    {
     "name": "stderr",
     "output_type": "stream",
     "text": [
      "2023-06-21 17:13:09,249 - log_format_ex - ERROR - ZeroDivisionError\n",
      "2023-06-21 17:13:09,249 - log_format_ex - ERROR - ZeroDivisionError\n",
      "2023-06-21 17:13:09,249 - log_format_ex - ERROR - ZeroDivisionError\n"
     ]
    }
   ],
   "source": [
    "import logging\n",
    "\n",
    "# Create a logging instance\n",
    "logger = logging.getLogger('log_format_ex')\n",
    "logger.setLevel(logging.INFO) # you can set this to be DEBUG, INFO, ERROR\n",
    "formatter = logging.Formatter('%(asctime)s - %(name)s - %(levelname)s - %(message)s')\n",
    "\n",
    "# create console handler with a higher log level\n",
    "ch = logging.StreamHandler()\n",
    "ch.setLevel(logging.ERROR)\n",
    "ch.setFormatter(formatter)\n",
    "\n",
    "logger.addHandler(ch)\n",
    "\n",
    "n =5; d = 0\n",
    "try:\n",
    "    result = n / d\n",
    "except ZeroDivisionError:\n",
    "    logger.error('ZeroDivisionError')\n",
    "    # logger.exception(e) # Will send the errors to the file"
   ]
  },
  {
   "cell_type": "markdown",
   "id": "fd0c3b67-1893-487f-851a-649005e7a6ac",
   "metadata": {},
   "source": [
    "8. How can you set up logging to capture log messages from multiple modules or classes in a Python application?\n",
    "\n",
    "Answer:\n",
    "\n",
    "Best practice is, in each module, to have a logger defined like this:"
   ]
  },
  {
   "cell_type": "code",
   "execution_count": 27,
   "id": "0341f9ca-e38a-452a-aa31-53abb41b6d90",
   "metadata": {},
   "outputs": [
    {
     "name": "stderr",
     "output_type": "stream",
     "text": [
      "CRITICAL:modelu1: modelu1 executed\n",
      "CRITICAL:Doing something\n",
      "CRITICAL:Error occured\n"
     ]
    }
   ],
   "source": [
    "import logging\n",
    "def modelu1():\n",
    "    logging.basicConfig(filename='myapp.log', level=logging.CRITICAL)\n",
    "    logging.critical('modelu1: %s', 'modelu1 executed')\n",
    "    \n",
    "def do_something():\n",
    "    logging.critical('Doing something')  \n",
    "    \n",
    "def ErrorModule():\n",
    "    logging.critical('Error occured')  \n",
    "    \n",
    "    \n",
    "logging.basicConfig(filename='myapp.log', level=logging.INFO)    \n",
    "modelu1()\n",
    "do_something()\n",
    "ErrorModule()\n"
   ]
  },
  {
   "cell_type": "markdown",
   "id": "5f889856-0ed6-4e6b-baf8-9bccdb2e5e1f",
   "metadata": {},
   "source": [
    "9. What is the difference between the logging and print statements in Python? When should you use logging over print statements in a real-world application?\n",
    "\n",
    "Answer:\n",
    "\n",
    "Logging- We can track events in a software application.\n",
    "The print() statement only displays messages on the console.\n",
    "\n",
    "The logging package has a lot of useful features:\n",
    "\n",
    "Easy to see where and when (even what line no.) a logging call is being made from.\n",
    "You can log to files, sockets, pretty much anything, all at the same time.\n",
    "You can differentiate your logging based on severity.\n",
    "Print doesn't have any of these."
   ]
  },
  {
   "cell_type": "markdown",
   "id": "215803cf-a54c-40d8-badf-146ebabefae6",
   "metadata": {},
   "source": [
    "10. Write a Python program that logs a message to a file named \"app.log\" with the following requirements:\n",
    "\n",
    "● The log message should be \"Hello, World!\"\n",
    "\n",
    "● The log level should be set to \"INFO.\"\n",
    "\n",
    "● The log file should append new log entries without overwriting previous ones.\n",
    "\n",
    "\n",
    "Answer:"
   ]
  },
  {
   "cell_type": "code",
   "execution_count": 9,
   "id": "9e2e0fd9-2136-4e43-b9cf-dc7c88865d08",
   "metadata": {},
   "outputs": [],
   "source": [
    "import logging\n",
    "\n",
    "# Create a logging instance\n",
    "logger = logging.getLogger('HelloWorld')\n",
    "logger.setLevel(logging.INFO) # you can set this to be DEBUG, INFO, ERROR\n",
    "formatter = logging.Formatter('%(asctime)s - %(name)s - %(levelname)s - %(message)s')\n",
    "# Assign a file-handler to that instance\n",
    "fh = logging.FileHandler(\"app.log\",\"a\")\n",
    "fh.setLevel(logging.INFO) # again, you can set this differently\n",
    "fh.setFormatter(formatter) # This will set the format to the file handler\n",
    "logger.addHandler(fh)\n",
    "\n",
    "logger.info('Hello, World!')\n"
   ]
  },
  {
   "cell_type": "markdown",
   "id": "19d55423-ee3c-4ed2-98f7-62f801f4f290",
   "metadata": {},
   "source": [
    "11. Create a Python program that logs an error message to the console and a file named \"errors.log\" if an exception occurs during the program's execution. The error message should include the exception type and a timestamp.\n",
    "\n",
    "Answer:"
   ]
  },
  {
   "cell_type": "code",
   "execution_count": 2,
   "id": "f0d2577b-1c5a-4f4f-bfe0-7d4f0fd9e382",
   "metadata": {},
   "outputs": [
    {
     "name": "stderr",
     "output_type": "stream",
     "text": [
      "2023-06-21 17:06:00,342 - my_application - ERROR - ValueError\n",
      "2023-06-21 17:06:00,342 - my_application - ERROR - ValueError\n"
     ]
    }
   ],
   "source": [
    "import logging\n",
    "\n",
    "# Create a logging instance\n",
    "logger = logging.getLogger('my_application')\n",
    "logger.setLevel(logging.INFO) # you can set this to be DEBUG, INFO, ERROR\n",
    "formatter = logging.Formatter('%(asctime)s - %(name)s - %(levelname)s - %(message)s')\n",
    "# Assign a file-handler to that instance\n",
    "fh = logging.FileHandler(\"error.log\",\"a\")\n",
    "fh.setLevel(logging.INFO) # again, you can set this differently\n",
    "fh.setFormatter(formatter) # This will set the format to the file handler\n",
    "\n",
    "# create console handler with a higher log level\n",
    "ch = logging.StreamHandler()\n",
    "ch.setLevel(logging.ERROR)\n",
    "ch.setFormatter(formatter)\n",
    "\n",
    "logger.addHandler(fh)\n",
    "logger.addHandler(ch)\n",
    "\n",
    "try:\n",
    "    raise ValueError(\"ValueError occurred\")\n",
    "except ValueError as e:\n",
    "    logger.error('ValueError')\n",
    "    # logger.exception(e) # Will send the errors to the file"
   ]
  }
 ],
 "metadata": {
  "kernelspec": {
   "display_name": "Python 3 (ipykernel)",
   "language": "python",
   "name": "python3"
  },
  "language_info": {
   "codemirror_mode": {
    "name": "ipython",
    "version": 3
   },
   "file_extension": ".py",
   "mimetype": "text/x-python",
   "name": "python",
   "nbconvert_exporter": "python",
   "pygments_lexer": "ipython3",
   "version": "3.10.6"
  }
 },
 "nbformat": 4,
 "nbformat_minor": 5
}
