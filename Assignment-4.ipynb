{
 "cells": [
  {
   "cell_type": "markdown",
   "id": "06fdfb37-ec07-4aa8-8417-682bcc0203b1",
   "metadata": {},
   "source": [
    "1. What exactly is []?\n",
    "\n",
    "Answer:\n",
    "\n",
    "It's an empty list, it contains no values."
   ]
  },
  {
   "cell_type": "markdown",
   "id": "4678ee97-1d4d-462a-ad24-39231e2ada52",
   "metadata": {},
   "source": [
    "2. In a list of values stored in a variable called spam, how would you assign the value 'hello' as the third value? (Assume [2, 4, 6, 8, 10] are in spam.)\n",
    "\n",
    "Answer:\n",
    "\n",
    "spam[2] = 'hello'"
   ]
  },
  {
   "cell_type": "markdown",
   "id": "a3bb1ddb-e6a7-4ae3-a089-a30b5bb6be02",
   "metadata": {},
   "source": [
    "spam =  [2, 4, 6, 8, 10]\n",
    "spam[2] = 'hello'\n",
    "spam"
   ]
  },
  {
   "cell_type": "markdown",
   "id": "c46819a9-d962-46ab-add2-205ae3c22769",
   "metadata": {},
   "source": [
    "Let's pretend the spam includes the list ['a', 'b', 'c', 'd'] for the next three queries.\n"
   ]
  },
  {
   "cell_type": "markdown",
   "id": "0e553b31-0ab3-49fd-bf0c-4b3f62f4a42c",
   "metadata": {},
   "source": [
    "3. What is the value of spam[int(int('3' * 2) / 11)]?\n",
    "\n",
    "Answer:\n",
    "int('3' * 2) becomes 33. so the calculation code as follows..."
   ]
  },
  {
   "cell_type": "code",
   "execution_count": 10,
   "id": "88474e52-97be-486f-ad1b-600e0190b731",
   "metadata": {},
   "outputs": [
    {
     "data": {
      "text/plain": [
       "'d'"
      ]
     },
     "execution_count": 10,
     "metadata": {},
     "output_type": "execute_result"
    }
   ],
   "source": [
    "spam = ['a', 'b', 'c', 'd']\n",
    "spam[int(int('3' * 2) / 11)]"
   ]
  },
  {
   "cell_type": "markdown",
   "id": "4a7d9a07-5b8f-4c15-aaef-e354e2c1c26c",
   "metadata": {},
   "source": [
    "4. What is the value of spam[-1]?\n",
    "\n",
    "Answer:"
   ]
  },
  {
   "cell_type": "code",
   "execution_count": 12,
   "id": "d2357cdd-3ce4-4218-9a74-a28852f80c53",
   "metadata": {},
   "outputs": [
    {
     "data": {
      "text/plain": [
       "'d'"
      ]
     },
     "execution_count": 12,
     "metadata": {},
     "output_type": "execute_result"
    }
   ],
   "source": [
    "spam[-1]"
   ]
  },
  {
   "cell_type": "markdown",
   "id": "ffa111f9-7fdc-45c2-9590-ca6983f1d407",
   "metadata": {},
   "source": [
    "5. What is the value of spam[:2]?\n",
    "\n",
    "Answer:"
   ]
  },
  {
   "cell_type": "code",
   "execution_count": 13,
   "id": "48c0d959-ab91-4d95-a4e1-a4095ee35015",
   "metadata": {},
   "outputs": [
    {
     "data": {
      "text/plain": [
       "['a', 'b']"
      ]
     },
     "execution_count": 13,
     "metadata": {},
     "output_type": "execute_result"
    }
   ],
   "source": [
    "spam[:2]"
   ]
  },
  {
   "cell_type": "markdown",
   "id": "7c69e700-21f0-4147-a761-a255120331e4",
   "metadata": {},
   "source": [
    "Let's pretend bacon has the list [3.14, 'cat,' 11, 'cat,' True] for the next three questions."
   ]
  },
  {
   "cell_type": "markdown",
   "id": "088dadd0-9490-4642-ab2f-602cef012215",
   "metadata": {},
   "source": [
    "6. What is the value of bacon.index('cat')?\n",
    "\n",
    "Answer:"
   ]
  },
  {
   "cell_type": "code",
   "execution_count": 15,
   "id": "1af0c855-e643-4bbc-9204-ab3e514e7f3f",
   "metadata": {},
   "outputs": [
    {
     "data": {
      "text/plain": [
       "1"
      ]
     },
     "execution_count": 15,
     "metadata": {},
     "output_type": "execute_result"
    }
   ],
   "source": [
    "bacon = [3.14, 'cat', 11, 'cat', True]\n",
    "bacon.index('cat')\n"
   ]
  },
  {
   "cell_type": "markdown",
   "id": "ef9871eb-53d5-4352-9672-b93ef5133c25",
   "metadata": {},
   "source": [
    "7. How does bacon.append(99) change the look of the list value in bacon?\n",
    "\n",
    "Answer:"
   ]
  },
  {
   "cell_type": "code",
   "execution_count": 16,
   "id": "a396690c-6bf6-4997-b556-a20aaae995a2",
   "metadata": {},
   "outputs": [
    {
     "data": {
      "text/plain": [
       "[3.14, 'cat', 11, 'cat', True, 99]"
      ]
     },
     "execution_count": 16,
     "metadata": {},
     "output_type": "execute_result"
    }
   ],
   "source": [
    "bacon.append(99)\n",
    "bacon"
   ]
  },
  {
   "cell_type": "markdown",
   "id": "bcd4118e-c4af-4008-98ed-2b72b1628487",
   "metadata": {},
   "source": [
    "8. How does bacon.remove('cat') change the look of the list in bacon?\n",
    "\n",
    "Answer:"
   ]
  },
  {
   "cell_type": "code",
   "execution_count": 17,
   "id": "ac598cfb-9f59-4091-b51b-d5caa2674fbe",
   "metadata": {},
   "outputs": [
    {
     "data": {
      "text/plain": [
       "[3.14, 11, 'cat', True, 99]"
      ]
     },
     "execution_count": 17,
     "metadata": {},
     "output_type": "execute_result"
    }
   ],
   "source": [
    "bacon.remove('cat')\n",
    "bacon"
   ]
  },
  {
   "cell_type": "markdown",
   "id": "b20433d6-57f4-4f35-809f-759ed7b3a4dc",
   "metadata": {},
   "source": [
    "9. What are the list concatenation and list replication operators?\n",
    "\n",
    "Answer:\n",
    "\n",
    "list concatenation operator is +\n",
    "list replication operator is *"
   ]
  },
  {
   "cell_type": "code",
   "execution_count": 19,
   "id": "99f100ec-c68e-4423-b7bd-052fc904d33f",
   "metadata": {},
   "outputs": [
    {
     "data": {
      "text/plain": [
       "[1, 2, 3, 1, 2, 3]"
      ]
     },
     "execution_count": 19,
     "metadata": {},
     "output_type": "execute_result"
    }
   ],
   "source": [
    "list1 = [1,2,3]\n",
    "\n",
    "list1 = list1 + list1\n",
    "\n",
    "list1"
   ]
  },
  {
   "cell_type": "code",
   "execution_count": 21,
   "id": "3d476099-c23c-4385-baad-2a548842a0c4",
   "metadata": {},
   "outputs": [
    {
     "data": {
      "text/plain": [
       "[1, 2, 3, 1, 2, 3]"
      ]
     },
     "execution_count": 21,
     "metadata": {},
     "output_type": "execute_result"
    }
   ],
   "source": [
    "list1 = [1,2,3]\n",
    "\n",
    "list1 = list1 * 2\n",
    "\n",
    "list1"
   ]
  },
  {
   "cell_type": "markdown",
   "id": "f147f3ff-95f7-4a0d-b529-62858b7b3731",
   "metadata": {},
   "source": [
    "10. What is difference between the list methods append() and insert()?\n",
    "\n",
    "Append will add the new item to the end od of the list. Where as insert will add the new item with specified index position.\n",
    "\n",
    "While append() will add values only to the end of a list, insert() can add them anywhere in the list."
   ]
  },
  {
   "cell_type": "markdown",
   "id": "dc092d43-a9c6-4b4f-9a23-52587161a740",
   "metadata": {},
   "source": [
    "11. What are the two methods for removing items from a list?\n",
    "\n",
    "Answer:\n",
    "\n",
    "Using remove() method ==> will remove the specified item present in the list\n",
    "\n",
    "Using del keyword ==> will remove  the  item present in the specified index \n",
    "\n",
    "Using pop() method ==> will remove  the  item present in the specified index \n",
    "\n",
    "Using clear() method ==> will remove all the items and makes the list empty\n",
    "\n"
   ]
  },
  {
   "cell_type": "code",
   "execution_count": 31,
   "id": "1a86e13d-25af-4c26-9049-1e189cda123c",
   "metadata": {},
   "outputs": [
    {
     "data": {
      "text/plain": [
       "[1, 3, 4, 5]"
      ]
     },
     "execution_count": 31,
     "metadata": {},
     "output_type": "execute_result"
    }
   ],
   "source": [
    "list1 = [1,2,3,4,5]\n",
    "list1.pop(1)\n",
    "list1"
   ]
  },
  {
   "cell_type": "code",
   "execution_count": 27,
   "id": "baac91d1-2ae4-4624-bde9-2749e735169f",
   "metadata": {},
   "outputs": [
    {
     "data": {
      "text/plain": [
       "[]"
      ]
     },
     "execution_count": 27,
     "metadata": {},
     "output_type": "execute_result"
    }
   ],
   "source": [
    "list1.clear()\n",
    "list1"
   ]
  },
  {
   "cell_type": "code",
   "execution_count": 33,
   "id": "5457feb7-260c-4f35-ab6a-4a357e5f7716",
   "metadata": {},
   "outputs": [
    {
     "data": {
      "text/plain": [
       "[1, 2, 3, 4, 5]"
      ]
     },
     "execution_count": 33,
     "metadata": {},
     "output_type": "execute_result"
    }
   ],
   "source": [
    "list1 = [1,2,3,4,5,11]\n",
    "list1.remove(11)\n",
    "list1"
   ]
  },
  {
   "cell_type": "code",
   "execution_count": 35,
   "id": "6f1cbff7-7b13-4345-b394-c9fd47698254",
   "metadata": {},
   "outputs": [
    {
     "data": {
      "text/plain": [
       "[1, 2, 3, 5, 11]"
      ]
     },
     "execution_count": 35,
     "metadata": {},
     "output_type": "execute_result"
    }
   ],
   "source": [
    "list1 = [1,2,3,4,5,11]\n",
    "del list1[3]\n",
    "list1"
   ]
  },
  {
   "cell_type": "markdown",
   "id": "506a9e40-45bf-4878-8fc2-2dd66ba7648a",
   "metadata": {},
   "source": [
    "12. Describe how list values and string values are identical.\n",
    "\n",
    "Answer:\n",
    "\n",
    "lists and strings have some common features as follows:\n",
    "\n",
    "1.can be passed to len()\n",
    "2.have indexes and slices\n",
    "3.be used in for loops\n",
    "4.be concatenated or replicated, \n",
    "5.used with the in and not in operators.\n",
    "\n",
    "Based on these reasons, list values and string values are identical."
   ]
  },
  {
   "cell_type": "markdown",
   "id": "817239f7-5d60-4f25-9254-e887f84887e6",
   "metadata": {},
   "source": [
    "13. What's the difference between tuples and lists?\n",
    "\n",
    "Answer:\n",
    "\n",
    "1. Lists are mutable. they can have values added, removed, or changed where as Tuples are immutable; they cannot be changed at all. Also, tuples are written using parentheses, ( and ), while lists use the square brackets, [ and ].\n"
   ]
  },
  {
   "cell_type": "markdown",
   "id": "969d69bb-c21d-4c00-be75-9d8b97bcb12a",
   "metadata": {},
   "source": [
    "14. How do you type a tuple value that only contains the integer 42?\n",
    "\n",
    "Answer:\n",
    "\n",
    "(42)\n"
   ]
  },
  {
   "cell_type": "markdown",
   "id": "1b78fd6f-b1a4-4607-b6c9-7def200aac16",
   "metadata": {},
   "source": [
    "15. How do you get a list value's tuple form? How do you get a tuple value's list form?\n",
    "\n",
    "Answer:\n",
    "\n",
    "1.we can get a list value's tuple form with tuple()\n",
    "\n",
    "2.we can get a tuple value's list form with list()\n",
    "\n"
   ]
  },
  {
   "cell_type": "markdown",
   "id": "0d82eb2f-d5ae-4b02-8948-0f8926f3f183",
   "metadata": {},
   "source": [
    "16. Variables that \"contain\" list values are not necessarily lists themselves. Instead, what do they contain?\n",
    "\n",
    "Answer:\n",
    "\n",
    "They contain references to list values."
   ]
  },
  {
   "cell_type": "markdown",
   "id": "76dc832e-b1e5-4ccc-9f93-551e3aa913f8",
   "metadata": {},
   "source": [
    "17. How do you distinguish between copy.copy() and copy.deepcopy()?\n",
    "\n",
    "Answer:\n",
    "\n",
    "\n",
    "The copy() returns a shallow copy of the list, and deepcopy() returns a deep copy of the list. \n",
    "\n",
    "In the case of deep copy, a copy of the object is copied into another object. It means that any changes made to a copy of the object do not reflect in the original object. \n",
    "\n",
    "In the case of shallow copy, a reference of an object is copied into another object. It means that any changes made to a copy of an object do reflect in the original object. In python, this is implemented using the “copy()” function. \n",
    "\n"
   ]
  },
  {
   "cell_type": "code",
   "execution_count": 44,
   "id": "cba2d7e5-0a63-4ced-8994-a8b6ffd7c153",
   "metadata": {},
   "outputs": [
    {
     "name": "stdout",
     "output_type": "stream",
     "text": [
      "The original elements before deep copying\n",
      "1 2 [3, 5] 4 \n",
      "The new list of elements after deep copying \n",
      "1 2 [7, 5] 4 \n",
      "The original elements after deep copying\n",
      "1 2 [3, 5] 4 \n",
      "The original elements before shallow copying\n",
      "1 2 [3, 5] 4 \n",
      "The new list of elements after shallow copying \n",
      "1 2 [7, 5] 4 \n",
      "The original elements after shallow copying\n",
      "1 2 [7, 5] 4 "
     ]
    }
   ],
   "source": [
    "# importing \"copy\" for copy operations\n",
    "import copy\n",
    "\n",
    "# initializing list 1\n",
    "li1 = [1, 2, [3,5], 4]\n",
    "\n",
    "# using deepcopy to deep copy\n",
    "li2 = copy.deepcopy(li1)\n",
    "\n",
    "# using copy to shallow copy\n",
    "li3 = copy.copy(li1)\n",
    "\n",
    "# original elements of list\n",
    "print (\"The original elements before deep copying\")\n",
    "for i in range(0,len(li1)):\n",
    "\tprint (li1[i],end=\" \")\n",
    "\n",
    "print(\"\\r\")\n",
    "\n",
    "# adding and element to new list\n",
    "li2[2][0] = 7\n",
    "\n",
    "# Change is reflected in l2\n",
    "print (\"The new list of elements after deep copying \")\n",
    "for i in range(0,len( li1)):\n",
    "\tprint (li2[i],end=\" \")\n",
    "\n",
    "print(\"\\r\")\n",
    "\n",
    "# Change is NOT reflected in original list\n",
    "# as it is a deep copy\n",
    "print (\"The original elements after deep copying\")\n",
    "for i in range(0,len( li1)):\n",
    "\tprint (li1[i],end=\" \")\n",
    "    \n",
    "\n",
    " \n",
    "# original elements of list\n",
    "print (\"\\nThe original elements before shallow copying\")\n",
    "for i in range(0,len(li1)):\n",
    "    print (li1[i],end=\" \")\n",
    " \n",
    " \n",
    "# adding and element to new list\n",
    "li3[2][0] = 7\n",
    "\n",
    "# Change is reflected in l2\n",
    "print (\"\\nThe new list of elements after shallow copying \")\n",
    "for i in range(0,len( li1)):\n",
    "\tprint (li2[i],end=\" \")\n",
    "\n",
    " \n",
    "# checking if change is reflected\n",
    "print (\"\\nThe original elements after shallow copying\")\n",
    "for i in range(0,len( li1)):\n",
    "    print (li1[i],end=\" \")\n",
    "\n"
   ]
  },
  {
   "cell_type": "code",
   "execution_count": null,
   "id": "59a220d9-4103-4ea2-a676-58fc6b947dad",
   "metadata": {},
   "outputs": [],
   "source": []
  }
 ],
 "metadata": {
  "kernelspec": {
   "display_name": "Python 3 (ipykernel)",
   "language": "python",
   "name": "python3"
  },
  "language_info": {
   "codemirror_mode": {
    "name": "ipython",
    "version": 3
   },
   "file_extension": ".py",
   "mimetype": "text/x-python",
   "name": "python",
   "nbconvert_exporter": "python",
   "pygments_lexer": "ipython3",
   "version": "3.10.6"
  }
 },
 "nbformat": 4,
 "nbformat_minor": 5
}
