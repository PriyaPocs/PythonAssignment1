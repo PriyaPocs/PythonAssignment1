{
 "cells": [
  {
   "cell_type": "markdown",
   "id": "3eb8508f-21fb-4993-bf10-8b49d8c36f27",
   "metadata": {},
   "source": [
    "1. In Python, what is the difference between a built-in function and a user-defined function? Provide an example of each.\n",
    "\n",
    "Answer:\n",
    "A function is a set of statements that take inputs, do some specific computation and produce output.\n",
    "\n",
    "Functions that readily comes with Python are called built-in functions. Python provides built-in functions like print(), etc. but we can also create your own functions. These functions are known as user-defined functions."
   ]
  },
  {
   "cell_type": "code",
   "execution_count": 2,
   "id": "f3732a49-eac4-4984-9192-d7c7dda9281c",
   "metadata": {},
   "outputs": [
    {
     "name": "stdout",
     "output_type": "stream",
     "text": [
      "Inside function\n"
     ]
    }
   ],
   "source": [
    "\n",
    "def fun():\n",
    "\tprint(\"Inside function\") ## Built-in function\n",
    "\n",
    "# Calling function\n",
    "fun() #custom function\n"
   ]
  },
  {
   "cell_type": "markdown",
   "id": "416ad8f9-c51e-4cfa-96a2-6763f9524258",
   "metadata": {},
   "source": [
    "2. How can you pass arguments to a function in Python? Explain the difference between positional arguments and keyword arguments.\n",
    "\n",
    "Answer:\n",
    "\n",
    "Information can be passed into functions as arguments.\n",
    "Arguments are specified after the function name, inside the parentheses. We can add as many arguments as we want, just separate them with a comma.\n",
    "\n",
    "The difference between positional arguments and keyword arguments:\n",
    "   Python functions can contain two types of arguments: positional arguments and keyword arguments. Positional arguments must be included in the correct order. Keyword arguments are included with a keyword and equals sign.\n"
   ]
  },
  {
   "cell_type": "code",
   "execution_count": 3,
   "id": "ccdf505b-5bc9-4e3f-8943-eb4c8d017bfa",
   "metadata": {},
   "outputs": [
    {
     "name": "stdout",
     "output_type": "stream",
     "text": [
      "Hello Priya Sam\n",
      "Hello John Rider\n"
     ]
    }
   ],
   "source": [
    "def my_function(fname,lname):\n",
    "    print(\"Hello \"+fname +\" \"+ lname)\n",
    "\n",
    "my_function(\"Priya\",\"Sam\")\n",
    "my_function(\"John\",\"Rider\")"
   ]
  },
  {
   "cell_type": "code",
   "execution_count": 4,
   "id": "76cd7af4-1c95-436a-9801-c60bbd2f8b1c",
   "metadata": {},
   "outputs": [
    {
     "name": "stdout",
     "output_type": "stream",
     "text": [
      "Case-1:\n",
      "Hi, I am Prince\n",
      "My age is  20\n",
      "\n",
      "Case-2:\n",
      "Hi, I am 20\n",
      "My age is  Prince\n"
     ]
    }
   ],
   "source": [
    "# Example for Positional Arguments\n",
    "def nameAge(name, age):\n",
    "\tprint(\"Hi, I am\", name)\n",
    "\tprint(\"My age is \", age)\n",
    "\n",
    "# We will get correct output because argument is given in order\n",
    "print(\"Case-1:\")\n",
    "nameAge(\"Prince\", 20)\n",
    "# We will get incorrect output because argument is not in order\n",
    "print(\"\\nCase-2:\")\n",
    "nameAge(20, \"Prince\")\n",
    "\n"
   ]
  },
  {
   "cell_type": "code",
   "execution_count": 5,
   "id": "d0181e69-47ee-4d70-a032-677cacadc419",
   "metadata": {},
   "outputs": [
    {
     "name": "stdout",
     "output_type": "stream",
     "text": [
      "Hi, I am Prince\n",
      "My age is  20\n",
      "Hi, I am Prince\n",
      "My age is  20\n"
     ]
    }
   ],
   "source": [
    "# Example for Keyword arguments\n",
    "def nameAge(name, age):\n",
    "\tprint(\"Hi, I am\", name)\n",
    "\tprint(\"My age is \", age)\n",
    "\n",
    "nameAge(name=\"Prince\", age=20)\n",
    "\n",
    "nameAge(age=20, name=\"Prince\")\n"
   ]
  },
  {
   "cell_type": "markdown",
   "id": "269442ac-b581-4acb-9760-24b9b8c6a056",
   "metadata": {},
   "source": [
    "3. What is the purpose of the return statement in a function? Can a function have multiple return statements? Explain with an example.\n",
    "\n",
    "Answer:\n",
    "  \n",
    "  We can perform some operation in a function and return the result to the caller using the return statement.\n",
    "  Yes. A function can have multiple return statements.\n"
   ]
  },
  {
   "cell_type": "code",
   "execution_count": 7,
   "id": "1e913f75-af7c-40d1-8dc8-46ed7a7e91c7",
   "metadata": {},
   "outputs": [
    {
     "name": "stdout",
     "output_type": "stream",
     "text": [
      "Number 3 is Odd\n",
      "Number 6 is Even\n"
     ]
    }
   ],
   "source": [
    "# Example for A function can have multiple return statements\n",
    "\n",
    "def findEvenOrOdd(x):\n",
    "    if x%2 == 0:\n",
    "        return \"Even\"\n",
    "    else:\n",
    "        return \"Odd\"\n",
    "    \n",
    "n = 3    \n",
    "result =  findEvenOrOdd(n)   \n",
    "print(\"Number \"+str(n)+\" is \"+result)\n",
    "n = 6\n",
    "result =  findEvenOrOdd(n)   \n",
    "print(\"Number \"+str(n)+\" is \"+result)\n"
   ]
  },
  {
   "cell_type": "markdown",
   "id": "4e26ba80-5422-4530-b041-13e01a6fe7e5",
   "metadata": {},
   "source": [
    "4. What are lambda functions in Python? How are they different from regular functions? Provide an example where a lambda function can be useful.\n",
    "\n",
    "A lambda function is an anonymous function (i.e., defined without a name) that can take any number of arguments \n",
    "but, unlike normal functions, evaluates and returns only one expression.\n",
    "unlike a normal function, we don't surround the parameters of a lambda function with parentheses. If a lambda function takes two or more parameters, we list them with a comma.\n",
    "\n"
   ]
  },
  {
   "cell_type": "code",
   "execution_count": 12,
   "id": "b6d3bca6-b5bc-40dc-a988-d11820480b20",
   "metadata": {},
   "outputs": [
    {
     "name": "stdout",
     "output_type": "stream",
     "text": [
      "using custom fn 3\n",
      "using lambda fn 3\n"
     ]
    }
   ],
   "source": [
    "# Normal user defined fn\n",
    "def increment_by_one(x):\n",
    "    return x + 1\n",
    "\n",
    "a = 2\n",
    "result = increment_by_one(a)\n",
    "print(\"using custom fn \"+str(result))\n",
    "\n",
    "# The above fn can be written with lambda function in a single line as follows...\n",
    "a = 2\n",
    "increment = lambda a: a + 1\n",
    "print(\"using lambda fn \"+str(increment(a)))\n"
   ]
  },
  {
   "cell_type": "markdown",
   "id": "e70f7189-cd9b-4b17-86c8-c8232bab824d",
   "metadata": {},
   "source": [
    "5. How does the concept of \"scope\" apply to functions in Python? Explain the difference between local scope and global scope.\n",
    "\n",
    "Answer:\n",
    "\n",
    "Variables are classified into Global variables and Local variables based on their scope. The main difference between Global and local variables is that global variables can be accessed globally in the entire program, whereas local variables can be accessed only within the function or block in which they are defined."
   ]
  },
  {
   "cell_type": "code",
   "execution_count": 14,
   "id": "675df200-cfa8-4a35-8f00-49eed96c005e",
   "metadata": {},
   "outputs": [
    {
     "data": {
      "text/plain": [
       "100"
      ]
     },
     "execution_count": 14,
     "metadata": {},
     "output_type": "execute_result"
    }
   ],
   "source": [
    "# global scope\n",
    "X = 99                # X and func assigned in module: global         \n",
    "def func(Y):          # Y and Z assigned in function: locals\n",
    "    # local scope\n",
    "    Z = X + Y         # X is not assigned, so it's a global\n",
    "    return Z\n",
    "func(1)               # func in module: result=100"
   ]
  },
  {
   "cell_type": "code",
   "execution_count": 15,
   "id": "82abab80-e657-4a2e-bdcb-c993d72a39a3",
   "metadata": {},
   "outputs": [],
   "source": [
    "y, z = 1, 2         # global variables in module\n",
    "\n",
    "def all_global():\n",
    "    global x        # declare globals assigned\n",
    "    x = y + z       # no need to declare y,z: 3-scope rule\n",
    "    "
   ]
  },
  {
   "cell_type": "markdown",
   "id": "26001f2e-bd4c-4c70-ad76-1d54562ad149",
   "metadata": {},
   "source": [
    "6. How can you use the \"return\" statement in a Python function to return multiple values?\n",
    "\n",
    "Using Tuple: A Tuple is a comma separated sequence of items. It is created with or without (). Tuples are immutable.\n",
    "\n",
    "Using a list: A list is like an array of items created using square brackets. They are different from arrays as they can contain items of different types. Lists are different from tuples as they are mutable. \n",
    "\n",
    "Using a Dictionary: A Dictionary is similar to hash or map in other languages. See this for details of dictionary. "
   ]
  },
  {
   "cell_type": "code",
   "execution_count": 18,
   "id": "2733ebc8-944d-42a2-84c7-20f580d94878",
   "metadata": {},
   "outputs": [
    {
     "name": "stdout",
     "output_type": "stream",
     "text": [
      "('abc', 100)\n",
      "<class 'tuple'>\n",
      "--------------------\n",
      "abc\n",
      "100\n"
     ]
    }
   ],
   "source": [
    "# Example for \"return\" statement in a Python function to return multiple values\n",
    "# A tuple with one element requires a comma in Python\n",
    "def test():\n",
    "    return 'abc', 100\n",
    "\n",
    "result = test()\n",
    "\n",
    "print(result)\n",
    "print(type(result))\n",
    "\n",
    "print(\"-\"*20)\n",
    "\n",
    "# -------------------------------\n",
    "# Unpacked\n",
    "a, b = test()\n",
    "\n",
    "print(a)\n",
    "# abc\n",
    "\n",
    "print(b)\n",
    "# 100"
   ]
  },
  {
   "cell_type": "code",
   "execution_count": 19,
   "id": "5bcfde12-615e-4e34-aa19-032289163b40",
   "metadata": {},
   "outputs": [
    {
     "name": "stdout",
     "output_type": "stream",
     "text": [
      "['Priya', 20]\n"
     ]
    }
   ],
   "source": [
    "# A Python program to return multiple\n",
    "# values from a method using list\n",
    "\n",
    "# This function returns a list\n",
    "def fun():\n",
    "\tstr = \"Priya\"\n",
    "\tx = 20\n",
    "\treturn [str, x]\n",
    "\n",
    "# Driver code to test above method\n",
    "list = fun()\n",
    "print(list)\n"
   ]
  },
  {
   "cell_type": "code",
   "execution_count": 20,
   "id": "6d359744-48d7-4755-8e59-9e1de1c9b75d",
   "metadata": {},
   "outputs": [
    {
     "name": "stdout",
     "output_type": "stream",
     "text": [
      "{'str': 'Priya', 'x': 20}\n"
     ]
    }
   ],
   "source": [
    "# A Python program to return multiple\n",
    "# values from a method using dictionary\n",
    "\n",
    "# This function returns a dictionary\n",
    "def fun():\n",
    "\td = dict();\n",
    "\td['str'] = \"Priya\"\n",
    "\td['x'] = 20\n",
    "\treturn d\n",
    "\n",
    "# Driver code to test above method\n",
    "d = fun()\n",
    "print(d)\n"
   ]
  },
  {
   "cell_type": "markdown",
   "id": "9891d2cd-1e9d-433a-9ab5-d02d85a372a9",
   "metadata": {},
   "source": [
    "7. What is the difference between the \"pass by value\" and \"pass by reference\" concepts when it comes to function arguments in Python?\n",
    "\n",
    "Answer:\n",
    "\n",
    "Pass by reference vs value in Python\n",
    "When we give function parameters via reference, we're just passing references to values that already exist in the memory. When you pass arguments by value, on the other hand, the arguments become independent copies of the original values.\n",
    "\n"
   ]
  },
  {
   "cell_type": "code",
   "execution_count": 3,
   "id": "8c915bed-3591-4e93-9e8f-03853f766e5a",
   "metadata": {},
   "outputs": [
    {
     "name": "stdout",
     "output_type": "stream",
     "text": [
      "Before function call  100\n",
      "Inside function call  200\n",
      "After function call  100\n"
     ]
    }
   ],
   "source": [
    "# Example for Pass by value\n",
    "def function(a):\n",
    "   a+=100\n",
    "   print(\"Inside function call \",a)\n",
    "\n",
    "a=100\n",
    "print(\"Before function call \",a)\n",
    "function(a)\n",
    "print(\"After function call \",a)"
   ]
  },
  {
   "cell_type": "code",
   "execution_count": 5,
   "id": "987eac97-cb07-4907-808c-06ced2546957",
   "metadata": {},
   "outputs": [
    {
     "name": "stdout",
     "output_type": "stream",
     "text": [
      "Before function call ['A']\n",
      "Inside function call ['A', 'B']\n",
      "After function call ['A', 'B']\n"
     ]
    }
   ],
   "source": [
    "# Example for Pass by Reference\n",
    "def function(a):\n",
    "    a.append('B')\n",
    "    print(\"Inside function call\",a)\n",
    "    \n",
    "a=['A']\n",
    "print(\"Before function call\",a)\n",
    "function(a)\n",
    "print(\"After function call\",a)"
   ]
  },
  {
   "cell_type": "markdown",
   "id": "1d6c0a1d-492f-466e-9fea-635e3c373e86",
   "metadata": {},
   "source": [
    "8. Create a function that can intake integer or decimal value and do following operations:\n",
    "a. Logarithmic function (log x)\n",
    "b. Exponential function (exp(x))\n",
    "c. Power function with base 2 (2x)\n",
    "d. Square root"
   ]
  },
  {
   "cell_type": "code",
   "execution_count": 6,
   "id": "38abcc8b-436a-434b-8188-56cf2fceb168",
   "metadata": {},
   "outputs": [
    {
     "name": "stdout",
     "output_type": "stream",
     "text": [
      "1. Logarithmic function (log x)\n",
      "2. Exponential function (exp(x))\n",
      "3. Power function with base 2 (2x)\n",
      "4. Square root\n"
     ]
    },
    {
     "name": "stdin",
     "output_type": "stream",
     "text": [
      "Enter your choice: 4\n"
     ]
    },
    {
     "name": "stdout",
     "output_type": "stream",
     "text": [
      "Square root of 2 =  1.4142135623730951\n",
      "Square root of 25.0 =  5.0\n"
     ]
    }
   ],
   "source": [
    "import math\n",
    "\n",
    "def calculation(no,option_selected):\n",
    "    if option_selected == 1:\n",
    "        print(\"Logarithmic function (log(\"+str(no)+\")) = \",math.log(no))\n",
    "    elif option_selected == 2:\n",
    "        print(\"Exponential function (exp(\"+str(no)+\")) = \",math.exp(no))       \n",
    "    elif option_selected == 3:\n",
    "        print(\"Power function with base 2 (2^\"+str(no)+\")) = \",pow(2,no))      \n",
    "    elif option_selected == 4:\n",
    "        print(\"Square root of \"+str(no)+\" = \",math.sqrt(no))\n",
    "    else:\n",
    "        print(\"Please select option in (1-4)\")   \n",
    "              \n",
    "              \n",
    "print(\"1. Logarithmic function (log x)\")   \n",
    "print(\"2. Exponential function (exp(x))\")   \n",
    "print(\"3. Power function with base 2 (2x)\")  \n",
    "print(\"4. Square root\")  \n",
    "\n",
    "# x1 =  input(\"Enter x:\")               \n",
    "a1 = input(\"Enter your choice:\")\n",
    "# print(type(x1))\n",
    "# print(type(a1))\n",
    "\n",
    "# x = int(x1)\n",
    "# a = int(a1)\n",
    "x = 2\n",
    "calculation(x,a)    \n",
    "\n",
    "x = 25.0             \n",
    "calculation(x,a)             "
   ]
  },
  {
   "cell_type": "markdown",
   "id": "15c83b56-df0c-488f-9118-0b793fd79385",
   "metadata": {},
   "source": [
    "9. Create a function that takes a full name as an argument and returns first name and last name.\n",
    "\n",
    "Answer:\n"
   ]
  },
  {
   "cell_type": "code",
   "execution_count": 12,
   "id": "803693e7-1306-4180-962c-d1c51d516345",
   "metadata": {},
   "outputs": [
    {
     "name": "stdin",
     "output_type": "stream",
     "text": [
      "Enter your full name(firstname lastname):  \n"
     ]
    },
    {
     "name": "stdout",
     "output_type": "stream",
     "text": [
      "Enter your name\n"
     ]
    }
   ],
   "source": [
    "def get_fname_lname(full_name):\n",
    "    names = full_name.split()\n",
    "    return names\n",
    "\n",
    "fullname = input(\"Enter your full name(firstname lastname): \")\n",
    "names = get_fname_lname(fullname)\n",
    "if len(names) > 1 :\n",
    "    print(\"First name is \",names[0],\"\\nLast name is \",names[1])\n",
    "elif len(names) == 1 :  \n",
    "    print(\"First name is \",names[0])\n",
    "else:\n",
    "    print(\"Enter your name\")\n",
    "    "
   ]
  },
  {
   "cell_type": "code",
   "execution_count": null,
   "id": "7226f6e1-39e7-4d7e-bc76-679fabda7090",
   "metadata": {},
   "outputs": [],
   "source": []
  }
 ],
 "metadata": {
  "kernelspec": {
   "display_name": "Python 3 (ipykernel)",
   "language": "python",
   "name": "python3"
  },
  "language_info": {
   "codemirror_mode": {
    "name": "ipython",
    "version": 3
   },
   "file_extension": ".py",
   "mimetype": "text/x-python",
   "name": "python",
   "nbconvert_exporter": "python",
   "pygments_lexer": "ipython3",
   "version": "3.10.6"
  }
 },
 "nbformat": 4,
 "nbformat_minor": 5
}
