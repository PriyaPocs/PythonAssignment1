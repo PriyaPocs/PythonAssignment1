{
 "cells": [
  {
   "cell_type": "markdown",
   "id": "ca3a5d5a-0548-474f-b313-aff3663d283d",
   "metadata": {},
   "source": [
    "1. Why are functions advantageous to have in your programs?\n",
    "\n",
    "Answer:\n",
    "   1. Functions can be reused(called) wherever we want. \n",
    "   2. Fuctions would reduce the number of codes that are needed repeatedly.\n",
    "   3. It's very good method to have a functions for the reuseable task and it would improve readability of our coding.\n",
    "\n",
    "   In short, it would reduce duplication of codes, so that This makes programs shorter, easier to read, and easier to update.\n",
    "   \n"
   ]
  },
  {
   "cell_type": "markdown",
   "id": "9c4b07ea-d91e-45bb-badf-f90a0fba3eec",
   "metadata": {},
   "source": [
    "2. When does the code in a function run: when it's specified or when it's called?\n",
    "\n",
    "Answer:\n",
    "\n",
    "The code in a function run: when it's specified\n"
   ]
  },
  {
   "cell_type": "markdown",
   "id": "18bf55d2-0f4b-45b8-bf65-abea12b0adbf",
   "metadata": {},
   "source": [
    "3. What statement creates a function?\n",
    "\n",
    "The 'def' statement creates the function.\n"
   ]
  },
  {
   "cell_type": "markdown",
   "id": "c43fbc41-1bfe-421b-9383-f4b11a44ee09",
   "metadata": {},
   "source": [
    "4. What is the difference between a function and a function call?\n",
    "\n",
    "Answer:\n",
    "\n",
    "Difference between a function and a function call:\n",
    "\n",
    "function: \n",
    "1. It consists of \n",
    "    1. def statement and the code in its def clause\n",
    "    2. parameters(if required/ optional) enclosed in paranthesis\n",
    "    3. block of statements to be executed\n",
    "    4. return statement if it evaluates any values.\n",
    "2. It can be executed by function call. \n",
    "\n",
    "function call:\n",
    "    1.Function can be called by function call.\n",
    "    2.Function call consists of Function name followed by arguments(if defined in the called fn). \n",
    "    3.Function call would receive a value from function with return.\n",
    "\n"
   ]
  },
  {
   "cell_type": "markdown",
   "id": "00ae5cdf-49fe-4a41-b597-66e8720dbd34",
   "metadata": {},
   "source": [
    "5. How many global scopes are there in a Python program? How many local scopes?\n",
    "\n",
    "Answer:\n",
    "\n",
    "There is one global scope, and a local scope is created whenever a function is called. \n",
    "This scope remains in existence until the program terminates and all its names are forgotten. \n",
    "Otherwise, the next time you were to run the program, the names would remember their values from the previous run."
   ]
  },
  {
   "cell_type": "markdown",
   "id": "593ad561-37be-4921-8241-1c3c50037957",
   "metadata": {},
   "source": [
    "6. What happens to variables in a local scope when the function call returns?\n",
    "\n",
    "Answer:\n",
    "\n",
    "When a function returns, the local scope is destroyed, and all the variables in it are forgotten.\n"
   ]
  },
  {
   "cell_type": "markdown",
   "id": "e99c77ad-8d55-44d8-b068-1dd2827d0796",
   "metadata": {},
   "source": [
    "7. What is the concept of a return value? Is it possible to have a return value in an expression?\n",
    "\n",
    "Answer:\n",
    "\n",
    "A return value is the value that a function call evaluates(from function) to . Yes. A return value can be used as part of an expression.\n"
   ]
  },
  {
   "cell_type": "markdown",
   "id": "988a5734-ea8e-4b96-9bb1-83f9d8a10db4",
   "metadata": {},
   "source": [
    "8. If a function does not have a return statement, what is the return value of a call to that function?\n",
    "\n",
    "Answer:\n",
    "\n",
    "If a function does not have a return statement, the return value of a call to that function is None."
   ]
  },
  {
   "cell_type": "markdown",
   "id": "ee8f4792-8a79-41a4-aebc-492d6515dbfe",
   "metadata": {},
   "source": [
    "9. How do you make a function variable refer to the global variable?\n",
    "\n",
    "Answer:\n",
    "\n",
    "A global state will force a variable in a function to refer to the global variable.\n"
   ]
  },
  {
   "cell_type": "markdown",
   "id": "d56f3ff8-5f12-4e4b-bd1b-d4a4f668ba74",
   "metadata": {},
   "source": [
    "10. What is the data type of None?\n",
    "\n",
    "Answer:\n",
    "\n",
    "The None keyword is used to define a null value, or no value at all. None is not the same as 0, False, or an empty string. None is a data type of its own (NoneType) and only None can be None."
   ]
  },
  {
   "cell_type": "markdown",
   "id": "b9ee19d3-0fb9-4630-9827-b1b76184d8c1",
   "metadata": {},
   "source": [
    "11. What does the sentence import areallyourpetsnamederic do?\n",
    "\n",
    "Answer:\n",
    "\n",
    "This import statement imports a module named areallyourpetsnamederic."
   ]
  },
  {
   "cell_type": "markdown",
   "id": "0324aad6-6d36-4f74-9944-f8754b35ea80",
   "metadata": {},
   "source": [
    "12. If you had a bacon() feature in a spam module, what would you call it after importing spam?\n",
    "\n",
    "Answer:\n",
    "\n",
    "It can be called with spam.bacon()."
   ]
  },
  {
   "cell_type": "markdown",
   "id": "41ec6dd1-61f3-4793-8af7-3d711c203318",
   "metadata": {},
   "source": [
    "13. What can you do to save a programme from crashing if it encounters an error?\n",
    "\n",
    "We can use try,except to prevent crash. We have to place the lines of code that might cause an error in a try clause."
   ]
  },
  {
   "cell_type": "markdown",
   "id": "7d881e9a-0cec-460c-8887-557bca41a1f7",
   "metadata": {},
   "source": [
    "14. What is the purpose of the try clause? What is the purpose of the except clause?\n",
    "\n",
    "Answer:\n",
    "\n",
    "Purpose of try clause: The code that could potentially cause an error goes in the try clause.\n",
    "except clause: The code that executes if an error happens from codes inside the try clause goes in the except clause.\n",
    "\n",
    "In short, we have to handle the expected error causing blocks of codes inside the try clause and handle it with except clause to prevent crash."
   ]
  }
 ],
 "metadata": {
  "kernelspec": {
   "display_name": "Python 3 (ipykernel)",
   "language": "python",
   "name": "python3"
  },
  "language_info": {
   "codemirror_mode": {
    "name": "ipython",
    "version": 3
   },
   "file_extension": ".py",
   "mimetype": "text/x-python",
   "name": "python",
   "nbconvert_exporter": "python",
   "pygments_lexer": "ipython3",
   "version": "3.10.6"
  }
 },
 "nbformat": 4,
 "nbformat_minor": 5
}
